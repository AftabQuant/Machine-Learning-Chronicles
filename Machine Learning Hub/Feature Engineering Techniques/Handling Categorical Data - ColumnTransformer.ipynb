{
 "cells": [
  {
   "cell_type": "code",
   "execution_count": 1,
   "id": "72ed8275-479b-49a5-88a2-859813da2624",
   "metadata": {},
   "outputs": [],
   "source": [
    "import numpy as np\n",
    "import pandas as pd\n",
    "import matplotlib.pyplot as plt\n",
    "import seaborn as sns\n",
    "import warnings\n",
    "\n",
    "warnings.filterwarnings(\"ignore\")"
   ]
  },
  {
   "cell_type": "code",
   "execution_count": 2,
   "id": "d5f00490-20be-497b-a362-fa47613183f8",
   "metadata": {},
   "outputs": [],
   "source": [
    "df = pd.read_csv(r\"D:\\Ultimate Programming\\Data Bases\\Machine Learning Datasets\\Regression\\cars_columnTransformation.csv\")"
   ]
  },
  {
   "cell_type": "code",
   "execution_count": 3,
   "id": "2b379b1f-7131-4305-be0b-867f5fc77ead",
   "metadata": {},
   "outputs": [
    {
     "data": {
      "text/html": [
       "<div>\n",
       "<style scoped>\n",
       "    .dataframe tbody tr th:only-of-type {\n",
       "        vertical-align: middle;\n",
       "    }\n",
       "\n",
       "    .dataframe tbody tr th {\n",
       "        vertical-align: top;\n",
       "    }\n",
       "\n",
       "    .dataframe thead th {\n",
       "        text-align: right;\n",
       "    }\n",
       "</style>\n",
       "<table border=\"1\" class=\"dataframe\">\n",
       "  <thead>\n",
       "    <tr style=\"text-align: right;\">\n",
       "      <th></th>\n",
       "      <th>manufacturer_name</th>\n",
       "      <th>model_name</th>\n",
       "      <th>transmission</th>\n",
       "      <th>color</th>\n",
       "      <th>odometer_value</th>\n",
       "      <th>year_produced</th>\n",
       "      <th>engine_fuel</th>\n",
       "      <th>engine_has_gas</th>\n",
       "      <th>engine_type</th>\n",
       "      <th>engine_capacity</th>\n",
       "      <th>...</th>\n",
       "      <th>feature_1</th>\n",
       "      <th>feature_2</th>\n",
       "      <th>feature_3</th>\n",
       "      <th>feature_4</th>\n",
       "      <th>feature_5</th>\n",
       "      <th>feature_6</th>\n",
       "      <th>feature_7</th>\n",
       "      <th>feature_8</th>\n",
       "      <th>feature_9</th>\n",
       "      <th>duration_listed</th>\n",
       "    </tr>\n",
       "  </thead>\n",
       "  <tbody>\n",
       "    <tr>\n",
       "      <th>30470</th>\n",
       "      <td>Mazda</td>\n",
       "      <td>626</td>\n",
       "      <td>mechanical</td>\n",
       "      <td>other</td>\n",
       "      <td>344000</td>\n",
       "      <td>1998</td>\n",
       "      <td>diesel</td>\n",
       "      <td>False</td>\n",
       "      <td>diesel</td>\n",
       "      <td>2.0</td>\n",
       "      <td>...</td>\n",
       "      <td>True</td>\n",
       "      <td>False</td>\n",
       "      <td>True</td>\n",
       "      <td>False</td>\n",
       "      <td>False</td>\n",
       "      <td>False</td>\n",
       "      <td>False</td>\n",
       "      <td>False</td>\n",
       "      <td>True</td>\n",
       "      <td>82</td>\n",
       "    </tr>\n",
       "    <tr>\n",
       "      <th>34451</th>\n",
       "      <td>Mercedes-Benz</td>\n",
       "      <td>E220</td>\n",
       "      <td>automatic</td>\n",
       "      <td>black</td>\n",
       "      <td>320000</td>\n",
       "      <td>2001</td>\n",
       "      <td>diesel</td>\n",
       "      <td>False</td>\n",
       "      <td>diesel</td>\n",
       "      <td>2.2</td>\n",
       "      <td>...</td>\n",
       "      <td>False</td>\n",
       "      <td>False</td>\n",
       "      <td>False</td>\n",
       "      <td>True</td>\n",
       "      <td>False</td>\n",
       "      <td>False</td>\n",
       "      <td>False</td>\n",
       "      <td>True</td>\n",
       "      <td>False</td>\n",
       "      <td>27</td>\n",
       "    </tr>\n",
       "    <tr>\n",
       "      <th>21751</th>\n",
       "      <td>Audi</td>\n",
       "      <td>A6</td>\n",
       "      <td>automatic</td>\n",
       "      <td>black</td>\n",
       "      <td>180000</td>\n",
       "      <td>2009</td>\n",
       "      <td>diesel</td>\n",
       "      <td>False</td>\n",
       "      <td>diesel</td>\n",
       "      <td>2.0</td>\n",
       "      <td>...</td>\n",
       "      <td>True</td>\n",
       "      <td>True</td>\n",
       "      <td>True</td>\n",
       "      <td>True</td>\n",
       "      <td>True</td>\n",
       "      <td>True</td>\n",
       "      <td>True</td>\n",
       "      <td>True</td>\n",
       "      <td>True</td>\n",
       "      <td>90</td>\n",
       "    </tr>\n",
       "  </tbody>\n",
       "</table>\n",
       "<p>3 rows × 30 columns</p>\n",
       "</div>"
      ],
      "text/plain": [
       "      manufacturer_name model_name transmission  color  odometer_value  \\\n",
       "30470             Mazda        626   mechanical  other          344000   \n",
       "34451     Mercedes-Benz       E220    automatic  black          320000   \n",
       "21751              Audi         A6    automatic  black          180000   \n",
       "\n",
       "       year_produced engine_fuel  engine_has_gas engine_type  engine_capacity  \\\n",
       "30470           1998      diesel           False      diesel              2.0   \n",
       "34451           2001      diesel           False      diesel              2.2   \n",
       "21751           2009      diesel           False      diesel              2.0   \n",
       "\n",
       "       ... feature_1  feature_2 feature_3 feature_4  feature_5  feature_6  \\\n",
       "30470  ...      True      False      True     False      False      False   \n",
       "34451  ...     False      False     False      True      False      False   \n",
       "21751  ...      True       True      True      True       True       True   \n",
       "\n",
       "      feature_7  feature_8  feature_9  duration_listed  \n",
       "30470     False      False       True               82  \n",
       "34451     False       True      False               27  \n",
       "21751      True       True       True               90  \n",
       "\n",
       "[3 rows x 30 columns]"
      ]
     },
     "execution_count": 3,
     "metadata": {},
     "output_type": "execute_result"
    }
   ],
   "source": [
    "df.sample(3)"
   ]
  },
  {
   "cell_type": "code",
   "execution_count": 4,
   "id": "0fe188ad-92db-4d61-8165-49a2b2414adc",
   "metadata": {},
   "outputs": [
    {
     "data": {
      "text/plain": [
       "np.int64(10)"
      ]
     },
     "execution_count": 4,
     "metadata": {},
     "output_type": "execute_result"
    }
   ],
   "source": [
    "df.isnull().sum().sum()"
   ]
  },
  {
   "cell_type": "code",
   "execution_count": 5,
   "id": "dac3dbab-c63e-4baa-a2c3-c58c2703ec09",
   "metadata": {},
   "outputs": [],
   "source": [
    "df.drop_duplicates(inplace=True)"
   ]
  },
  {
   "cell_type": "code",
   "execution_count": 6,
   "id": "d0a49c9c-d943-4686-8918-2a6bb18d882d",
   "metadata": {},
   "outputs": [],
   "source": [
    "df.drop(columns=['feature_0', 'feature_1', 'feature_2', 'feature_3', 'feature_4', 'feature_5', 'feature_6', 'feature_7', 'feature_8', 'feature_9', 'has_warranty', 'is_exchangeable', 'location_region'], axis=1, inplace=True)"
   ]
  },
  {
   "cell_type": "code",
   "execution_count": 7,
   "id": "11ddc628-bfce-45ae-8b7b-556fcc90796e",
   "metadata": {},
   "outputs": [
    {
     "data": {
      "text/html": [
       "<div>\n",
       "<style scoped>\n",
       "    .dataframe tbody tr th:only-of-type {\n",
       "        vertical-align: middle;\n",
       "    }\n",
       "\n",
       "    .dataframe tbody tr th {\n",
       "        vertical-align: top;\n",
       "    }\n",
       "\n",
       "    .dataframe thead th {\n",
       "        text-align: right;\n",
       "    }\n",
       "</style>\n",
       "<table border=\"1\" class=\"dataframe\">\n",
       "  <thead>\n",
       "    <tr style=\"text-align: right;\">\n",
       "      <th></th>\n",
       "      <th>manufacturer_name</th>\n",
       "      <th>model_name</th>\n",
       "      <th>transmission</th>\n",
       "      <th>color</th>\n",
       "      <th>odometer_value</th>\n",
       "      <th>year_produced</th>\n",
       "      <th>engine_fuel</th>\n",
       "      <th>engine_has_gas</th>\n",
       "      <th>engine_type</th>\n",
       "      <th>engine_capacity</th>\n",
       "      <th>body_type</th>\n",
       "      <th>state</th>\n",
       "      <th>drivetrain</th>\n",
       "      <th>price_usd</th>\n",
       "      <th>number_of_photos</th>\n",
       "      <th>up_counter</th>\n",
       "      <th>duration_listed</th>\n",
       "    </tr>\n",
       "  </thead>\n",
       "  <tbody>\n",
       "    <tr>\n",
       "      <th>0</th>\n",
       "      <td>Subaru</td>\n",
       "      <td>Outback</td>\n",
       "      <td>automatic</td>\n",
       "      <td>silver</td>\n",
       "      <td>190000</td>\n",
       "      <td>2010</td>\n",
       "      <td>gasoline</td>\n",
       "      <td>False</td>\n",
       "      <td>gasoline</td>\n",
       "      <td>2.5</td>\n",
       "      <td>universal</td>\n",
       "      <td>owned</td>\n",
       "      <td>all</td>\n",
       "      <td>10900.0</td>\n",
       "      <td>9</td>\n",
       "      <td>13</td>\n",
       "      <td>16</td>\n",
       "    </tr>\n",
       "    <tr>\n",
       "      <th>1</th>\n",
       "      <td>Subaru</td>\n",
       "      <td>Outback</td>\n",
       "      <td>automatic</td>\n",
       "      <td>blue</td>\n",
       "      <td>290000</td>\n",
       "      <td>2002</td>\n",
       "      <td>gasoline</td>\n",
       "      <td>False</td>\n",
       "      <td>gasoline</td>\n",
       "      <td>3.0</td>\n",
       "      <td>universal</td>\n",
       "      <td>owned</td>\n",
       "      <td>all</td>\n",
       "      <td>5000.0</td>\n",
       "      <td>12</td>\n",
       "      <td>54</td>\n",
       "      <td>83</td>\n",
       "    </tr>\n",
       "  </tbody>\n",
       "</table>\n",
       "</div>"
      ],
      "text/plain": [
       "  manufacturer_name model_name transmission   color  odometer_value  \\\n",
       "0            Subaru    Outback    automatic  silver          190000   \n",
       "1            Subaru    Outback    automatic    blue          290000   \n",
       "\n",
       "   year_produced engine_fuel  engine_has_gas engine_type  engine_capacity  \\\n",
       "0           2010    gasoline           False    gasoline              2.5   \n",
       "1           2002    gasoline           False    gasoline              3.0   \n",
       "\n",
       "   body_type  state drivetrain  price_usd  number_of_photos  up_counter  \\\n",
       "0  universal  owned        all    10900.0                 9          13   \n",
       "1  universal  owned        all     5000.0                12          54   \n",
       "\n",
       "   duration_listed  \n",
       "0               16  \n",
       "1               83  "
      ]
     },
     "execution_count": 7,
     "metadata": {},
     "output_type": "execute_result"
    }
   ],
   "source": [
    "df.head(2)"
   ]
  },
  {
   "cell_type": "code",
   "execution_count": 8,
   "id": "01eb55a1-24f9-4a8a-bd30-28054379f09f",
   "metadata": {},
   "outputs": [
    {
     "name": "stdout",
     "output_type": "stream",
     "text": [
      "<class 'pandas.core.frame.DataFrame'>\n",
      "Index: 38491 entries, 0 to 38530\n",
      "Data columns (total 17 columns):\n",
      " #   Column             Non-Null Count  Dtype  \n",
      "---  ------             --------------  -----  \n",
      " 0   manufacturer_name  38491 non-null  object \n",
      " 1   model_name         38491 non-null  object \n",
      " 2   transmission       38491 non-null  object \n",
      " 3   color              38491 non-null  object \n",
      " 4   odometer_value     38491 non-null  int64  \n",
      " 5   year_produced      38491 non-null  int64  \n",
      " 6   engine_fuel        38491 non-null  object \n",
      " 7   engine_has_gas     38491 non-null  bool   \n",
      " 8   engine_type        38491 non-null  object \n",
      " 9   engine_capacity    38481 non-null  float64\n",
      " 10  body_type          38491 non-null  object \n",
      " 11  state              38491 non-null  object \n",
      " 12  drivetrain         38491 non-null  object \n",
      " 13  price_usd          38491 non-null  float64\n",
      " 14  number_of_photos   38491 non-null  int64  \n",
      " 15  up_counter         38491 non-null  int64  \n",
      " 16  duration_listed    38491 non-null  int64  \n",
      "dtypes: bool(1), float64(2), int64(5), object(9)\n",
      "memory usage: 5.0+ MB\n"
     ]
    }
   ],
   "source": [
    "df.info()"
   ]
  },
  {
   "cell_type": "code",
   "execution_count": 9,
   "id": "e2f60f7e-6a18-44d4-a932-8980a44ffce8",
   "metadata": {},
   "outputs": [],
   "source": [
    "counts = df['manufacturer_name'].value_counts()\n",
    "threshold = 1000\n",
    "repl = counts[counts <= threshold].index\n",
    "df = df.replace(repl, \"others\")"
   ]
  },
  {
   "cell_type": "code",
   "execution_count": 10,
   "id": "d73e8d30-3e58-489b-9294-603b07a6cc04",
   "metadata": {},
   "outputs": [],
   "source": [
    "counts = df['model_name'].value_counts()\n",
    "threshold = 400\n",
    "repl = counts[counts <= threshold].index\n",
    "df['model_name'] = df['model_name'].replace(repl, \"others\")"
   ]
  },
  {
   "cell_type": "code",
   "execution_count": 11,
   "id": "dc064127-4ebe-4412-8d19-0df3cb98dd3f",
   "metadata": {},
   "outputs": [
    {
     "data": {
      "text/plain": [
       "drivetrain\n",
       "front    27710\n",
       "rear      5396\n",
       "all       5385\n",
       "Name: count, dtype: int64"
      ]
     },
     "execution_count": 11,
     "metadata": {},
     "output_type": "execute_result"
    }
   ],
   "source": [
    "df['drivetrain'].value_counts()"
   ]
  },
  {
   "cell_type": "code",
   "execution_count": null,
   "id": "eb07bc65-91ff-4c85-9266-fcad222323f9",
   "metadata": {},
   "outputs": [],
   "source": []
  },
  {
   "cell_type": "code",
   "execution_count": 12,
   "id": "6b3915eb-dd17-44b2-a263-be4332e16be6",
   "metadata": {},
   "outputs": [],
   "source": [
    "from sklearn.impute import SimpleImputer\n",
    "from sklearn.preprocessing import OneHotEncoder, OrdinalEncoder, StandardScaler"
   ]
  },
  {
   "cell_type": "code",
   "execution_count": null,
   "id": "b0d686e6-2e70-40ff-a776-6da4ab65298a",
   "metadata": {},
   "outputs": [],
   "source": []
  },
  {
   "cell_type": "code",
   "execution_count": 13,
   "id": "2784886d-7a18-4b8c-be4f-fb163296f17e",
   "metadata": {},
   "outputs": [],
   "source": [
    "x = df.iloc[:, :-1]\n",
    "y = df['duration_listed']"
   ]
  },
  {
   "cell_type": "code",
   "execution_count": 14,
   "id": "2e81fd66-7483-4bed-b261-6279dc74e475",
   "metadata": {},
   "outputs": [],
   "source": [
    "from sklearn.model_selection import train_test_split\n",
    "nx_train, nx_test, ny_train, ny_test = train_test_split(x, y, test_size=0.2, random_state=42)"
   ]
  },
  {
   "cell_type": "markdown",
   "id": "5b14d444-1307-4d0a-bcb6-85136849f551",
   "metadata": {},
   "source": [
    "## Column Transformation"
   ]
  },
  {
   "cell_type": "code",
   "execution_count": 15,
   "id": "b7f34d93-25ef-4e02-b229-ec0c713408b5",
   "metadata": {},
   "outputs": [],
   "source": [
    "from sklearn.compose import ColumnTransformer"
   ]
  },
  {
   "cell_type": "code",
   "execution_count": 16,
   "id": "a6962e42-d0eb-4a10-a61b-1356d49ae8df",
   "metadata": {},
   "outputs": [],
   "source": [
    "ct = ColumnTransformer(transformers=[\n",
    "    ('simpleInputer', SimpleImputer(), ['engine_capacity']),\n",
    "    ('OneHotEncoder', OneHotEncoder(drop='first', sparse_output=False), \n",
    "     ['manufacturer_name', 'model_name', 'transmission', 'color', 'engine_fuel', 'engine_type', 'body_type']),\n",
    "    ('OrdinalEncoder', OrdinalEncoder(), ['engine_has_gas', 'state', 'drivetrain'])\n",
    "], remainder='passthrough')"
   ]
  },
  {
   "cell_type": "code",
   "execution_count": 17,
   "id": "9ccae4d6-e485-4808-b047-bbc9aa5f8bb9",
   "metadata": {},
   "outputs": [],
   "source": [
    "ct = ColumnTransformer(transformers=[\n",
    "    ('simpleInputer', SimpleImputer(), [9]),\n",
    "    ('OneHotEncoder', OneHotEncoder(drop='first', sparse_output=False), \n",
    "     [0, 1, 2, 3, 6, 8, 10]),\n",
    "    ('OrdinalEncoder', OrdinalEncoder(), [7, 11, 12]),\n",
    "    #('StandardScaler', StandardScaler(), slice(0, 63))\n",
    "], remainder='passthrough')"
   ]
  },
  {
   "cell_type": "code",
   "execution_count": 18,
   "id": "ad3c2dd9-0815-41ee-a964-ea20c30ede95",
   "metadata": {},
   "outputs": [],
   "source": [
    "x_scaled = ct.fit_transform(x)"
   ]
  },
  {
   "cell_type": "code",
   "execution_count": 19,
   "id": "f87fba7f-0a0a-460a-a6a2-d8f8ed324c74",
   "metadata": {},
   "outputs": [
    {
     "name": "stdout",
     "output_type": "stream",
     "text": [
      "(38491, 62)\n",
      "(38491, 16)\n"
     ]
    }
   ],
   "source": [
    "print(x_scaled.shape)\n",
    "print(x.shape)"
   ]
  }
 ],
 "metadata": {
  "kernelspec": {
   "display_name": "Python 3 (ipykernel)",
   "language": "python",
   "name": "python3"
  },
  "language_info": {
   "codemirror_mode": {
    "name": "ipython",
    "version": 3
   },
   "file_extension": ".py",
   "mimetype": "text/x-python",
   "name": "python",
   "nbconvert_exporter": "python",
   "pygments_lexer": "ipython3",
   "version": "3.13.3"
  },
  "widgets": {
   "application/vnd.jupyter.widget-state+json": {
    "state": {},
    "version_major": 2,
    "version_minor": 0
   }
  }
 },
 "nbformat": 4,
 "nbformat_minor": 5
}
