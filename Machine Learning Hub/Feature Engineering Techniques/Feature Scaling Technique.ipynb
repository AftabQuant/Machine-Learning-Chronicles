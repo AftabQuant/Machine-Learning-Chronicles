{
 "cells": [
  {
   "cell_type": "code",
   "execution_count": 1,
   "id": "509c5af0-174d-4b96-8a5b-458f4f3b5146",
   "metadata": {},
   "outputs": [],
   "source": [
    "import numpy as np\n",
    "import pandas as pd\n",
    "import matplotlib.pyplot as plt\n",
    "import seaborn as sns\n",
    "import warnings\n",
    "\n",
    "warnings.filterwarnings(\"ignore\")"
   ]
  },
  {
   "cell_type": "code",
   "execution_count": null,
   "id": "68a812d8-953a-42f6-9796-b15c9ef58ada",
   "metadata": {},
   "outputs": [],
   "source": [
    "df = pd.read_csv(r\"D:\\Ultimate Programming\\Data Bases\\Machine Learning Datasets\\Classification\\placement-dataset.csv\")"
   ]
  },
  {
   "cell_type": "code",
   "execution_count": null,
   "id": "61d20ed2-a8c3-45de-97f4-b2ebfe02fb96",
   "metadata": {},
   "outputs": [],
   "source": [
    "df.head(2)"
   ]
  },
  {
   "cell_type": "code",
   "execution_count": null,
   "id": "06fcfe29-0d96-45df-aab7-0bffd5a8e603",
   "metadata": {},
   "outputs": [],
   "source": [
    "df.drop(columns='city', axis=1, inplace=True)"
   ]
  },
  {
   "cell_type": "code",
   "execution_count": null,
   "id": "e83f1f39-80b6-46c1-ae44-04e81f00a6cf",
   "metadata": {},
   "outputs": [],
   "source": [
    "df.head(2)"
   ]
  },
  {
   "cell_type": "code",
   "execution_count": null,
   "id": "cf3fc1b5-663a-4416-8ce6-50a3abf22e2f",
   "metadata": {},
   "outputs": [],
   "source": [
    "df.isnull().sum().sum()"
   ]
  },
  {
   "cell_type": "code",
   "execution_count": null,
   "id": "0363b7e1-fe4e-4808-bc5f-2cd7aa620d68",
   "metadata": {},
   "outputs": [],
   "source": [
    "df['cgpa'].fillna(df['cgpa'].mean(), inplace=True)\n",
    "df['iq'].fillna(df['iq'].mean(), inplace=True)"
   ]
  },
  {
   "cell_type": "code",
   "execution_count": null,
   "id": "5f4c21b6-1690-46dc-858d-45ff92840e6e",
   "metadata": {},
   "outputs": [],
   "source": [
    "df.isnull().sum().sum()"
   ]
  },
  {
   "cell_type": "markdown",
   "id": "27fd38a7-6509-4d1e-b88b-3a2877f19cce",
   "metadata": {},
   "source": [
    "## Divide dataset into 2 parts"
   ]
  },
  {
   "cell_type": "code",
   "execution_count": null,
   "id": "ba286691-e112-4e71-812d-4db2bfc5b38a",
   "metadata": {},
   "outputs": [],
   "source": [
    "x = df.iloc[:, :-1]\n",
    "y = df['placement']"
   ]
  },
  {
   "cell_type": "code",
   "execution_count": null,
   "id": "8a9ba275-1b78-4d56-947c-56662ea71176",
   "metadata": {},
   "outputs": [],
   "source": [
    "from sklearn.model_selection import train_test_split\n",
    "x_train, x_test, y_train, y_test = train_test_split(x, y, test_size=0.2, random_state=42)"
   ]
  },
  {
   "cell_type": "markdown",
   "id": "ccb83a96-b7df-4d26-b78f-17db2ae1e4d0",
   "metadata": {},
   "source": [
    "# Standardization [Plotting]"
   ]
  },
  {
   "cell_type": "code",
   "execution_count": null,
   "id": "d623b7e7-b1dd-4c67-9154-273ae90f8e2c",
   "metadata": {},
   "outputs": [],
   "source": [
    "from sklearn.preprocessing import StandardScaler\n",
    "\n",
    "ss = StandardScaler()\n",
    "\n",
    "x_scaled = ss.fit_transform(x)\n",
    "x_scaled = pd.DataFrame(x_scaled, columns=x.columns)"
   ]
  },
  {
   "cell_type": "code",
   "execution_count": null,
   "id": "bb389fe2-2772-48ce-9069-ad8f6d833aff",
   "metadata": {},
   "outputs": [],
   "source": [
    "print(x.head(1))\n",
    "print(x_scaled.head(1))"
   ]
  },
  {
   "cell_type": "code",
   "execution_count": null,
   "id": "0f85fa0f-a3ff-482e-b3da-d8e9afaf4263",
   "metadata": {},
   "outputs": [],
   "source": [
    "plt.figure(figsize=(10,4))\n",
    "plt.subplot(1,2,1)\n",
    "sns.scatterplot(data=x, x='cgpa', y='iq', c='red')\n",
    "plt.title(\"Befor Scaling\")\n",
    "\n",
    "plt.subplot(1,2,2)\n",
    "sns.scatterplot(data=x_scaled, x='cgpa', y='iq')\n",
    "plt.title(\"After Scaling\")\n",
    "plt.show()"
   ]
  },
  {
   "cell_type": "code",
   "execution_count": null,
   "id": "94db5838-edcb-46be-931b-d197100c9a0e",
   "metadata": {},
   "outputs": [],
   "source": [
    "plt.figure(figsize=(10,4))\n",
    "plt.subplot(1,2,1)\n",
    "sns.kdeplot(data=x, x='iq', legend=False)\n",
    "sns.kdeplot(data=x, x='cgpa', legend=False)\n",
    "plt.title(\"Befor Scaling\")\n",
    "\n",
    "\n",
    "plt.subplot(1,2,2)\n",
    "sns.kdeplot(data=x_scaled, x='iq', legend=False)\n",
    "sns.kdeplot(data=x_scaled, x='cgpa', legend=False)\n",
    "plt.title(\"After Scaling\")\n",
    "\n",
    "plt.tight_layout()\n",
    "plt.show()"
   ]
  },
  {
   "cell_type": "markdown",
   "id": "50ad9518-427a-4819-a381-0506090b455e",
   "metadata": {},
   "source": [
    "# Normalization with Ploting"
   ]
  },
  {
   "cell_type": "code",
   "execution_count": null,
   "id": "cb1fe2e0-254e-4d34-8b61-a25ee9db2561",
   "metadata": {},
   "outputs": [],
   "source": [
    "df.head(2)"
   ]
  },
  {
   "cell_type": "code",
   "execution_count": null,
   "id": "998c40ce-24d0-4140-8815-c70f32c3832f",
   "metadata": {},
   "outputs": [],
   "source": [
    "nx = df.iloc[:, :-1]\n",
    "ny = df['placement']"
   ]
  },
  {
   "cell_type": "code",
   "execution_count": null,
   "id": "0128868b-fb2a-48a6-8985-88c023e43302",
   "metadata": {},
   "outputs": [],
   "source": [
    "from sklearn.model_selection import train_test_split\n",
    "nx_train, nx_test, ny_train, ny_test = train_test_split(nx, ny, test_size=0.2, random_state=42)"
   ]
  },
  {
   "cell_type": "code",
   "execution_count": null,
   "id": "24f0d4af-b1c8-49d3-ba86-f1ba3afc1e28",
   "metadata": {},
   "outputs": [],
   "source": [
    "from sklearn.preprocessing import MinMaxScaler\n",
    "\n",
    "ms = MinMaxScaler()\n",
    "\n",
    "nx_scaled = ms.fit_transform(nx)\n",
    "nx_scaled = pd.DataFrame(nx_scaled, columns=nx.columns)"
   ]
  },
  {
   "cell_type": "code",
   "execution_count": null,
   "id": "a12694be-4968-48e6-9ee4-903633a84c8d",
   "metadata": {},
   "outputs": [],
   "source": [
    "print(nx.head(1))\n",
    "print(nx_scaled.head(1))"
   ]
  },
  {
   "cell_type": "code",
   "execution_count": null,
   "id": "038cefe6-0ded-4209-b28c-b25826b6e90d",
   "metadata": {},
   "outputs": [],
   "source": [
    "plt.figure(figsize=(10,4))\n",
    "plt.subplot(1,2,1)\n",
    "sns.scatterplot(data=nx, x='cgpa', y='iq', c='Blue')\n",
    "plt.title(\"Befor Scaling\")\n",
    "\n",
    "plt.subplot(1,2,2)\n",
    "sns.scatterplot(data=nx_scaled, x='cgpa', y='iq', c='Red')\n",
    "plt.title(\"After Scaling\")\n",
    "\n",
    "plt.tight_layout()\n",
    "plt.show()"
   ]
  },
  {
   "cell_type": "code",
   "execution_count": null,
   "id": "334b69e7-0889-43bb-9f45-f3d6af15726f",
   "metadata": {},
   "outputs": [],
   "source": [
    "plt.figure(figsize=(10,4))\n",
    "plt.subplot(1,2,1)\n",
    "sns.kdeplot(data=nx, x='iq', legend=False)\n",
    "sns.kdeplot(data=nx, x='cgpa', legend=False)\n",
    "plt.title(\"Befor Scaling\")\n",
    "\n",
    "\n",
    "plt.subplot(1,2,2)\n",
    "sns.kdeplot(data=nx_scaled, x='iq', legend=False)\n",
    "sns.kdeplot(data=nx_scaled, x='cgpa', legend=False)\n",
    "plt.title(\"After Scaling\")\n",
    "\n",
    "plt.tight_layout()\n",
    "plt.show()"
   ]
  },
  {
   "cell_type": "code",
   "execution_count": null,
   "id": "8319c858-4f83-4aab-8fb6-b41d938c8c36",
   "metadata": {},
   "outputs": [],
   "source": [
    "from sklearn.linear_model import LogisticRegression\n",
    "\n",
    "lr = LogisticRegression()\n",
    "lr_scaled_standardization = LogisticRegression()\n",
    "lr_scaled_normalization = LogisticRegression()\n",
    "\n",
    "lr.fit(x_train, y_train)\n",
    "lr_scaled_standardization.fit(x_train, y_train)\n",
    "lr_scaled_normalization.fit(nx_train, ny_train)"
   ]
  }
 ],
 "metadata": {
  "kernelspec": {
   "display_name": "Python 3 (ipykernel)",
   "language": "python",
   "name": "python3"
  },
  "language_info": {
   "codemirror_mode": {
    "name": "ipython",
    "version": 3
   },
   "file_extension": ".py",
   "mimetype": "text/x-python",
   "name": "python",
   "nbconvert_exporter": "python",
   "pygments_lexer": "ipython3",
   "version": "3.13.3"
  },
  "widgets": {
   "application/vnd.jupyter.widget-state+json": {
    "state": {},
    "version_major": 2,
    "version_minor": 0
   }
  }
 },
 "nbformat": 4,
 "nbformat_minor": 5
}
