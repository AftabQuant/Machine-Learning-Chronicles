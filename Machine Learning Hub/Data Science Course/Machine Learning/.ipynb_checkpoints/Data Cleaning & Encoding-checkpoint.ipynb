{
 "cells": [
  {
   "cell_type": "code",
   "execution_count": 1,
   "id": "9774b2ee-7505-4290-9865-bb066414e9fc",
   "metadata": {},
   "outputs": [],
   "source": [
    "import numpy as np\n",
    "import pandas as pd\n",
    "import matplotlib.pyplot as plt\n",
    "import seaborn as sns\n",
    "\n",
    "import warnings\n",
    "warnings.filterwarnings('ignore')"
   ]
  },
  {
   "cell_type": "code",
   "execution_count": 2,
   "id": "618e865b-4575-4e9b-842e-f697f0eb726e",
   "metadata": {},
   "outputs": [],
   "source": [
    "df = pd.read_csv(r\"D:\\Ultimate Programming\\Data Bases\\BMW sales data (2010-2024) (1).csv\")"
   ]
  },
  {
   "cell_type": "code",
   "execution_count": 3,
   "id": "01bfc91d-0ff7-4991-ad3d-d5eac4bd3106",
   "metadata": {
    "scrolled": true
   },
   "outputs": [
    {
     "data": {
      "text/html": [
       "<div>\n",
       "<style scoped>\n",
       "    .dataframe tbody tr th:only-of-type {\n",
       "        vertical-align: middle;\n",
       "    }\n",
       "\n",
       "    .dataframe tbody tr th {\n",
       "        vertical-align: top;\n",
       "    }\n",
       "\n",
       "    .dataframe thead th {\n",
       "        text-align: right;\n",
       "    }\n",
       "</style>\n",
       "<table border=\"1\" class=\"dataframe\">\n",
       "  <thead>\n",
       "    <tr style=\"text-align: right;\">\n",
       "      <th></th>\n",
       "      <th>Model</th>\n",
       "      <th>Year</th>\n",
       "      <th>Region</th>\n",
       "      <th>Color</th>\n",
       "      <th>Fuel_Type</th>\n",
       "      <th>Transmission</th>\n",
       "      <th>Engine_Size_L</th>\n",
       "      <th>Mileage_KM</th>\n",
       "      <th>Price_USD</th>\n",
       "      <th>Sales_Volume</th>\n",
       "      <th>Sales_Classification</th>\n",
       "    </tr>\n",
       "  </thead>\n",
       "  <tbody>\n",
       "    <tr>\n",
       "      <th>0</th>\n",
       "      <td>5 Series</td>\n",
       "      <td>2016</td>\n",
       "      <td>Asia</td>\n",
       "      <td>Red</td>\n",
       "      <td>Petrol</td>\n",
       "      <td>Manual</td>\n",
       "      <td>3.5</td>\n",
       "      <td>151748</td>\n",
       "      <td>98740</td>\n",
       "      <td>8300</td>\n",
       "      <td>High</td>\n",
       "    </tr>\n",
       "    <tr>\n",
       "      <th>1</th>\n",
       "      <td>i8</td>\n",
       "      <td>2013</td>\n",
       "      <td>North America</td>\n",
       "      <td>Red</td>\n",
       "      <td>Hybrid</td>\n",
       "      <td>Automatic</td>\n",
       "      <td>1.6</td>\n",
       "      <td>121671</td>\n",
       "      <td>79219</td>\n",
       "      <td>3428</td>\n",
       "      <td>Low</td>\n",
       "    </tr>\n",
       "  </tbody>\n",
       "</table>\n",
       "</div>"
      ],
      "text/plain": [
       "      Model  Year         Region Color Fuel_Type Transmission  Engine_Size_L  \\\n",
       "0  5 Series  2016           Asia   Red    Petrol       Manual            3.5   \n",
       "1        i8  2013  North America   Red    Hybrid    Automatic            1.6   \n",
       "\n",
       "   Mileage_KM  Price_USD  Sales_Volume Sales_Classification  \n",
       "0      151748      98740          8300                 High  \n",
       "1      121671      79219          3428                  Low  "
      ]
     },
     "execution_count": 3,
     "metadata": {},
     "output_type": "execute_result"
    }
   ],
   "source": [
    "df.head(2)"
   ]
  },
  {
   "cell_type": "code",
   "execution_count": 4,
   "id": "4679ce48-e9af-461c-8daa-7b793a401e86",
   "metadata": {},
   "outputs": [
    {
     "data": {
      "text/plain": [
       "Model                   0.0\n",
       "Year                    0.0\n",
       "Region                  0.0\n",
       "Color                   0.0\n",
       "Fuel_Type               0.0\n",
       "Transmission            0.0\n",
       "Engine_Size_L           0.0\n",
       "Mileage_KM              0.0\n",
       "Price_USD               0.0\n",
       "Sales_Volume            0.0\n",
       "Sales_Classification    0.0\n",
       "dtype: float64"
      ]
     },
     "execution_count": 4,
     "metadata": {},
     "output_type": "execute_result"
    }
   ],
   "source": [
    "(df.isnull().sum() / df.shape[0]) * 100"
   ]
  },
  {
   "cell_type": "code",
   "execution_count": 5,
   "id": "097924f8-50c8-4198-9a32-fa9231f63174",
   "metadata": {},
   "outputs": [
    {
     "name": "stdout",
     "output_type": "stream",
     "text": [
      "0.0\n"
     ]
    }
   ],
   "source": [
    "print((df.isnull().sum().sum() / (df.shape[0] * df.shape[1])) * 100)"
   ]
  },
  {
   "cell_type": "code",
   "execution_count": 6,
   "id": "cccb3068-309e-420a-bdaa-70bc59ee4c8b",
   "metadata": {},
   "outputs": [
    {
     "data": {
      "text/html": [
       "<div>\n",
       "<style scoped>\n",
       "    .dataframe tbody tr th:only-of-type {\n",
       "        vertical-align: middle;\n",
       "    }\n",
       "\n",
       "    .dataframe tbody tr th {\n",
       "        vertical-align: top;\n",
       "    }\n",
       "\n",
       "    .dataframe thead th {\n",
       "        text-align: right;\n",
       "    }\n",
       "</style>\n",
       "<table border=\"1\" class=\"dataframe\">\n",
       "  <thead>\n",
       "    <tr style=\"text-align: right;\">\n",
       "      <th></th>\n",
       "      <th>Year</th>\n",
       "      <th>Engine_Size_L</th>\n",
       "      <th>Mileage_KM</th>\n",
       "      <th>Price_USD</th>\n",
       "      <th>Sales_Volume</th>\n",
       "    </tr>\n",
       "  </thead>\n",
       "  <tbody>\n",
       "    <tr>\n",
       "      <th>count</th>\n",
       "      <td>50000.000000</td>\n",
       "      <td>50000.000000</td>\n",
       "      <td>50000.000000</td>\n",
       "      <td>50000.000000</td>\n",
       "      <td>50000.000000</td>\n",
       "    </tr>\n",
       "    <tr>\n",
       "      <th>mean</th>\n",
       "      <td>2017.015700</td>\n",
       "      <td>3.247180</td>\n",
       "      <td>100307.203140</td>\n",
       "      <td>75034.600900</td>\n",
       "      <td>5067.514680</td>\n",
       "    </tr>\n",
       "    <tr>\n",
       "      <th>std</th>\n",
       "      <td>4.324459</td>\n",
       "      <td>1.009078</td>\n",
       "      <td>57941.509344</td>\n",
       "      <td>25998.248882</td>\n",
       "      <td>2856.767125</td>\n",
       "    </tr>\n",
       "    <tr>\n",
       "      <th>min</th>\n",
       "      <td>2010.000000</td>\n",
       "      <td>1.500000</td>\n",
       "      <td>3.000000</td>\n",
       "      <td>30000.000000</td>\n",
       "      <td>100.000000</td>\n",
       "    </tr>\n",
       "    <tr>\n",
       "      <th>25%</th>\n",
       "      <td>2013.000000</td>\n",
       "      <td>2.400000</td>\n",
       "      <td>50178.000000</td>\n",
       "      <td>52434.750000</td>\n",
       "      <td>2588.000000</td>\n",
       "    </tr>\n",
       "    <tr>\n",
       "      <th>50%</th>\n",
       "      <td>2017.000000</td>\n",
       "      <td>3.200000</td>\n",
       "      <td>100388.500000</td>\n",
       "      <td>75011.500000</td>\n",
       "      <td>5087.000000</td>\n",
       "    </tr>\n",
       "    <tr>\n",
       "      <th>75%</th>\n",
       "      <td>2021.000000</td>\n",
       "      <td>4.100000</td>\n",
       "      <td>150630.250000</td>\n",
       "      <td>97628.250000</td>\n",
       "      <td>7537.250000</td>\n",
       "    </tr>\n",
       "    <tr>\n",
       "      <th>max</th>\n",
       "      <td>2024.000000</td>\n",
       "      <td>5.000000</td>\n",
       "      <td>199996.000000</td>\n",
       "      <td>119998.000000</td>\n",
       "      <td>9999.000000</td>\n",
       "    </tr>\n",
       "  </tbody>\n",
       "</table>\n",
       "</div>"
      ],
      "text/plain": [
       "               Year  Engine_Size_L     Mileage_KM      Price_USD  Sales_Volume\n",
       "count  50000.000000   50000.000000   50000.000000   50000.000000  50000.000000\n",
       "mean    2017.015700       3.247180  100307.203140   75034.600900   5067.514680\n",
       "std        4.324459       1.009078   57941.509344   25998.248882   2856.767125\n",
       "min     2010.000000       1.500000       3.000000   30000.000000    100.000000\n",
       "25%     2013.000000       2.400000   50178.000000   52434.750000   2588.000000\n",
       "50%     2017.000000       3.200000  100388.500000   75011.500000   5087.000000\n",
       "75%     2021.000000       4.100000  150630.250000   97628.250000   7537.250000\n",
       "max     2024.000000       5.000000  199996.000000  119998.000000   9999.000000"
      ]
     },
     "execution_count": 6,
     "metadata": {},
     "output_type": "execute_result"
    }
   ],
   "source": [
    "df.describe()"
   ]
  },
  {
   "cell_type": "code",
   "execution_count": 7,
   "id": "7c3e5418-b7fc-46b3-bda2-d7851380774a",
   "metadata": {},
   "outputs": [
    {
     "data": {
      "text/plain": [
       "np.float64(0.0)"
      ]
     },
     "execution_count": 7,
     "metadata": {},
     "output_type": "execute_result"
    }
   ],
   "source": [
    "(df.duplicated().sum() / df.shape[0]) * 100"
   ]
  },
  {
   "cell_type": "code",
   "execution_count": 8,
   "id": "dccc082f-e6fa-49ba-a8af-9d72bc5f9357",
   "metadata": {},
   "outputs": [
    {
     "name": "stdout",
     "output_type": "stream",
     "text": [
      "<class 'pandas.core.frame.DataFrame'>\n",
      "RangeIndex: 50000 entries, 0 to 49999\n",
      "Data columns (total 11 columns):\n",
      " #   Column                Non-Null Count  Dtype  \n",
      "---  ------                --------------  -----  \n",
      " 0   Model                 50000 non-null  object \n",
      " 1   Year                  50000 non-null  int64  \n",
      " 2   Region                50000 non-null  object \n",
      " 3   Color                 50000 non-null  object \n",
      " 4   Fuel_Type             50000 non-null  object \n",
      " 5   Transmission          50000 non-null  object \n",
      " 6   Engine_Size_L         50000 non-null  float64\n",
      " 7   Mileage_KM            50000 non-null  int64  \n",
      " 8   Price_USD             50000 non-null  int64  \n",
      " 9   Sales_Volume          50000 non-null  int64  \n",
      " 10  Sales_Classification  50000 non-null  object \n",
      "dtypes: float64(1), int64(4), object(6)\n",
      "memory usage: 4.2+ MB\n"
     ]
    }
   ],
   "source": [
    "df.info()"
   ]
  },
  {
   "cell_type": "code",
   "execution_count": 28,
   "id": "c0f5a01e-f247-4e72-aa02-30a88f1ef1ec",
   "metadata": {},
   "outputs": [
    {
     "data": {
      "text/plain": [
       "Model\n",
       "7 Series    4666\n",
       "i3          4618\n",
       "i8          4606\n",
       "3 Series    4595\n",
       "5 Series    4592\n",
       "X1          4570\n",
       "X3          4497\n",
       "X5          4487\n",
       "M5          4478\n",
       "X6          4478\n",
       "M3          4413\n",
       "Name: count, dtype: int64"
      ]
     },
     "execution_count": 28,
     "metadata": {},
     "output_type": "execute_result"
    }
   ],
   "source": [
    "df.Model.value_counts()"
   ]
  },
  {
   "cell_type": "code",
   "execution_count": null,
   "id": "6064bd94-3220-4406-a669-50bd2d04b4b7",
   "metadata": {},
   "outputs": [],
   "source": []
  },
  {
   "cell_type": "code",
   "execution_count": null,
   "id": "bdfbd0cb-6080-4c2a-81fc-38510d3e3c2e",
   "metadata": {},
   "outputs": [],
   "source": []
  },
  {
   "cell_type": "code",
   "execution_count": 10,
   "id": "0400cf6a-0559-4ea1-bfc5-6aaf432fc0a7",
   "metadata": {},
   "outputs": [
    {
     "data": {
      "image/png": "[encoded data removed]",
      "text/plain": [
       "<Figure size 640x480 with 1 Axes>"
      ]
     },
     "metadata": {},
     "output_type": "display_data"
    }
   ],
   "source": [
    "sns.countplot(data=df, x='Model', palette='viridis')\n",
    "plt.show()"
   ]
  },
  {
   "cell_type": "code",
   "execution_count": 11,
   "id": "dc5acfeb-f5a1-4f2e-9692-edae8fd4d461",
   "metadata": {},
   "outputs": [
    {
     "data": {
      "image/png": "[encoded data removed]",
      "text/plain": [
       "<Figure size 640x480 with 1 Axes>"
      ]
     },
     "metadata": {},
     "output_type": "display_data"
    }
   ],
   "source": [
    "sns.countplot(data=df, x='Sales_Classification', palette='viridis')\n",
    "plt.show()"
   ]
  },
  {
   "cell_type": "code",
   "execution_count": 12,
   "id": "f6ddf9a0-c350-4910-b66a-cf8fee6cfc82",
   "metadata": {},
   "outputs": [
    {
     "data": {
      "text/plain": [
       "Index(['Model', 'Region', 'Color', 'Fuel_Type', 'Transmission',\n",
       "       'Sales_Classification'],\n",
       "      dtype='object')"
      ]
     },
     "execution_count": 12,
     "metadata": {},
     "output_type": "execute_result"
    }
   ],
   "source": [
    "df.select_dtypes(include='object').columns"
   ]
  },
  {
   "cell_type": "code",
   "execution_count": null,
   "id": "e1b14818-9f5f-4a66-9992-6f960af4a9b0",
   "metadata": {},
   "outputs": [],
   "source": []
  },
  {
   "cell_type": "code",
   "execution_count": null,
   "id": "79a73fae-d0d9-439f-81ae-068fe33ba885",
   "metadata": {},
   "outputs": [],
   "source": []
  },
  {
   "cell_type": "code",
   "execution_count": 13,
   "id": "78f34104-7765-4840-8350-9d833b626545",
   "metadata": {},
   "outputs": [],
   "source": [
    "x = df.iloc[:, :-1]\n",
    "y = df['Sales_Classification']"
   ]
  },
  {
   "cell_type": "code",
   "execution_count": 18,
   "id": "f7dfb494-13bd-400f-be3f-8177c3e89c6c",
   "metadata": {},
   "outputs": [
    {
     "data": {
      "text/plain": [
       "pandas.core.frame.DataFrame"
      ]
     },
     "execution_count": 18,
     "metadata": {},
     "output_type": "execute_result"
    }
   ],
   "source": [
    "type(x)"
   ]
  },
  {
   "cell_type": "code",
   "execution_count": null,
   "id": "9786a11e-fb07-4a3e-a9ba-49114af24ddc",
   "metadata": {},
   "outputs": [],
   "source": []
  },
  {
   "cell_type": "code",
   "execution_count": 15,
   "id": "f36038c2-2d6e-4737-9e6e-29618033b462",
   "metadata": {},
   "outputs": [],
   "source": [
    "from sklearn.preprocessing import OneHotEncoder, OrdinalEncoder"
   ]
  },
  {
   "cell_type": "code",
   "execution_count": 21,
   "id": "f5355332-f104-4b4d-bfa3-e23f8ce25ef0",
   "metadata": {},
   "outputs": [],
   "source": [
    "ohe = OneHotEncoder(drop='first')\n",
    "\n",
    "for col in x.select_dtypes(include='object').columns:\n",
    "    x[[col]] = ohe.fit_transform(x[[col]]).toarray()"
   ]
  },
  {
   "cell_type": "code",
   "execution_count": 24,
   "id": "3ec9b6c1-f572-4090-8b8b-07cb7dcf1ece",
   "metadata": {},
   "outputs": [
    {
     "data": {
      "text/html": [
       "<div>\n",
       "<style scoped>\n",
       "    .dataframe tbody tr th:only-of-type {\n",
       "        vertical-align: middle;\n",
       "    }\n",
       "\n",
       "    .dataframe tbody tr th {\n",
       "        vertical-align: top;\n",
       "    }\n",
       "\n",
       "    .dataframe thead th {\n",
       "        text-align: right;\n",
       "    }\n",
       "</style>\n",
       "<table border=\"1\" class=\"dataframe\">\n",
       "  <thead>\n",
       "    <tr style=\"text-align: right;\">\n",
       "      <th></th>\n",
       "      <th>Model</th>\n",
       "      <th>Year</th>\n",
       "      <th>Region</th>\n",
       "      <th>Color</th>\n",
       "      <th>Fuel_Type</th>\n",
       "      <th>Transmission</th>\n",
       "      <th>Engine_Size_L</th>\n",
       "      <th>Mileage_KM</th>\n",
       "      <th>Price_USD</th>\n",
       "      <th>Sales_Volume</th>\n",
       "    </tr>\n",
       "  </thead>\n",
       "  <tbody>\n",
       "    <tr>\n",
       "      <th>0</th>\n",
       "      <td>1.0</td>\n",
       "      <td>2016</td>\n",
       "      <td>1.0</td>\n",
       "      <td>0.0</td>\n",
       "      <td>0.0</td>\n",
       "      <td>1.0</td>\n",
       "      <td>3.5</td>\n",
       "      <td>151748</td>\n",
       "      <td>98740</td>\n",
       "      <td>8300</td>\n",
       "    </tr>\n",
       "    <tr>\n",
       "      <th>1</th>\n",
       "      <td>0.0</td>\n",
       "      <td>2013</td>\n",
       "      <td>0.0</td>\n",
       "      <td>0.0</td>\n",
       "      <td>0.0</td>\n",
       "      <td>0.0</td>\n",
       "      <td>1.6</td>\n",
       "      <td>121671</td>\n",
       "      <td>79219</td>\n",
       "      <td>3428</td>\n",
       "    </tr>\n",
       "    <tr>\n",
       "      <th>2</th>\n",
       "      <td>1.0</td>\n",
       "      <td>2022</td>\n",
       "      <td>0.0</td>\n",
       "      <td>1.0</td>\n",
       "      <td>0.0</td>\n",
       "      <td>0.0</td>\n",
       "      <td>4.5</td>\n",
       "      <td>10991</td>\n",
       "      <td>113265</td>\n",
       "      <td>6994</td>\n",
       "    </tr>\n",
       "    <tr>\n",
       "      <th>3</th>\n",
       "      <td>0.0</td>\n",
       "      <td>2024</td>\n",
       "      <td>0.0</td>\n",
       "      <td>1.0</td>\n",
       "      <td>0.0</td>\n",
       "      <td>0.0</td>\n",
       "      <td>1.7</td>\n",
       "      <td>27255</td>\n",
       "      <td>60971</td>\n",
       "      <td>4047</td>\n",
       "    </tr>\n",
       "    <tr>\n",
       "      <th>4</th>\n",
       "      <td>0.0</td>\n",
       "      <td>2020</td>\n",
       "      <td>0.0</td>\n",
       "      <td>0.0</td>\n",
       "      <td>0.0</td>\n",
       "      <td>1.0</td>\n",
       "      <td>2.1</td>\n",
       "      <td>122131</td>\n",
       "      <td>49898</td>\n",
       "      <td>3080</td>\n",
       "    </tr>\n",
       "  </tbody>\n",
       "</table>\n",
       "</div>"
      ],
      "text/plain": [
       "   Model  Year  Region  Color  Fuel_Type  Transmission  Engine_Size_L  \\\n",
       "0    1.0  2016     1.0    0.0        0.0           1.0            3.5   \n",
       "1    0.0  2013     0.0    0.0        0.0           0.0            1.6   \n",
       "2    1.0  2022     0.0    1.0        0.0           0.0            4.5   \n",
       "3    0.0  2024     0.0    1.0        0.0           0.0            1.7   \n",
       "4    0.0  2020     0.0    0.0        0.0           1.0            2.1   \n",
       "\n",
       "   Mileage_KM  Price_USD  Sales_Volume  \n",
       "0      151748      98740          8300  \n",
       "1      121671      79219          3428  \n",
       "2       10991     113265          6994  \n",
       "3       27255      60971          4047  \n",
       "4      122131      49898          3080  "
      ]
     },
     "execution_count": 24,
     "metadata": {},
     "output_type": "execute_result"
    }
   ],
   "source": [
    "x.head(5)"
   ]
  },
  {
   "cell_type": "code",
   "execution_count": 26,
   "id": "0f2c9e92-29b5-4d9c-9cd5-d63d6d48d985",
   "metadata": {},
   "outputs": [
    {
     "name": "stdout",
     "output_type": "stream",
     "text": [
      "<class 'pandas.core.frame.DataFrame'>\n",
      "RangeIndex: 50000 entries, 0 to 49999\n",
      "Data columns (total 10 columns):\n",
      " #   Column         Non-Null Count  Dtype  \n",
      "---  ------         --------------  -----  \n",
      " 0   Model          50000 non-null  float64\n",
      " 1   Year           50000 non-null  int64  \n",
      " 2   Region         50000 non-null  float64\n",
      " 3   Color          50000 non-null  float64\n",
      " 4   Fuel_Type      50000 non-null  float64\n",
      " 5   Transmission   50000 non-null  float64\n",
      " 6   Engine_Size_L  50000 non-null  float64\n",
      " 7   Mileage_KM     50000 non-null  int64  \n",
      " 8   Price_USD      50000 non-null  int64  \n",
      " 9   Sales_Volume   50000 non-null  int64  \n",
      "dtypes: float64(6), int64(4)\n",
      "memory usage: 3.8 MB\n"
     ]
    }
   ],
   "source": [
    "x.info()"
   ]
  },
  {
   "cell_type": "code",
   "execution_count": 35,
   "id": "414c09ad-2006-4107-bf2a-5843695b7f59",
   "metadata": {},
   "outputs": [
    {
     "data": {
      "text/plain": [
       "(50000, 11)"
      ]
     },
     "execution_count": 35,
     "metadata": {},
     "output_type": "execute_result"
    }
   ],
   "source": [
    "df.shape"
   ]
  },
  {
   "cell_type": "code",
   "execution_count": 36,
   "id": "312df250-ae71-4f85-b1ef-ea054748ac70",
   "metadata": {},
   "outputs": [
    {
     "data": {
      "text/plain": [
       "(50000, 10)"
      ]
     },
     "execution_count": 36,
     "metadata": {},
     "output_type": "execute_result"
    }
   ],
   "source": [
    "x.shape"
   ]
  },
  {
   "cell_type": "code",
   "execution_count": 42,
   "id": "36322e33-abf1-4072-8228-4ca1d854557f",
   "metadata": {},
   "outputs": [],
   "source": [
    "x2 = df.iloc[: , :-1]\n",
    "y2 = df['Sales_Classification']"
   ]
  },
  {
   "cell_type": "code",
   "execution_count": 49,
   "id": "bb12160e-d38d-4960-a31e-1f6042d16135",
   "metadata": {},
   "outputs": [],
   "source": [
    "oe = OrdinalEncoder()\n",
    "\n",
    "for col in x2.select_dtypes(include='object').columns:\n",
    "    x2[[col]] = oe.fit_transform(x2[[col]])"
   ]
  },
  {
   "cell_type": "code",
   "execution_count": 50,
   "id": "15b8ad0f-bdac-485c-ad52-118ac7768dd4",
   "metadata": {},
   "outputs": [
    {
     "data": {
      "text/html": [
       "<div>\n",
       "<style scoped>\n",
       "    .dataframe tbody tr th:only-of-type {\n",
       "        vertical-align: middle;\n",
       "    }\n",
       "\n",
       "    .dataframe tbody tr th {\n",
       "        vertical-align: top;\n",
       "    }\n",
       "\n",
       "    .dataframe thead th {\n",
       "        text-align: right;\n",
       "    }\n",
       "</style>\n",
       "<table border=\"1\" class=\"dataframe\">\n",
       "  <thead>\n",
       "    <tr style=\"text-align: right;\">\n",
       "      <th></th>\n",
       "      <th>Model</th>\n",
       "      <th>Year</th>\n",
       "      <th>Region</th>\n",
       "      <th>Color</th>\n",
       "      <th>Fuel_Type</th>\n",
       "      <th>Transmission</th>\n",
       "      <th>Engine_Size_L</th>\n",
       "      <th>Mileage_KM</th>\n",
       "      <th>Price_USD</th>\n",
       "      <th>Sales_Volume</th>\n",
       "    </tr>\n",
       "  </thead>\n",
       "  <tbody>\n",
       "    <tr>\n",
       "      <th>0</th>\n",
       "      <td>1.0</td>\n",
       "      <td>2016</td>\n",
       "      <td>1.0</td>\n",
       "      <td>3.0</td>\n",
       "      <td>3.0</td>\n",
       "      <td>1.0</td>\n",
       "      <td>3.5</td>\n",
       "      <td>151748</td>\n",
       "      <td>98740</td>\n",
       "      <td>8300</td>\n",
       "    </tr>\n",
       "    <tr>\n",
       "      <th>1</th>\n",
       "      <td>10.0</td>\n",
       "      <td>2013</td>\n",
       "      <td>4.0</td>\n",
       "      <td>3.0</td>\n",
       "      <td>2.0</td>\n",
       "      <td>0.0</td>\n",
       "      <td>1.6</td>\n",
       "      <td>121671</td>\n",
       "      <td>79219</td>\n",
       "      <td>3428</td>\n",
       "    </tr>\n",
       "    <tr>\n",
       "      <th>2</th>\n",
       "      <td>1.0</td>\n",
       "      <td>2022</td>\n",
       "      <td>4.0</td>\n",
       "      <td>1.0</td>\n",
       "      <td>3.0</td>\n",
       "      <td>0.0</td>\n",
       "      <td>4.5</td>\n",
       "      <td>10991</td>\n",
       "      <td>113265</td>\n",
       "      <td>6994</td>\n",
       "    </tr>\n",
       "  </tbody>\n",
       "</table>\n",
       "</div>"
      ],
      "text/plain": [
       "   Model  Year  Region  Color  Fuel_Type  Transmission  Engine_Size_L  \\\n",
       "0    1.0  2016     1.0    3.0        3.0           1.0            3.5   \n",
       "1   10.0  2013     4.0    3.0        2.0           0.0            1.6   \n",
       "2    1.0  2022     4.0    1.0        3.0           0.0            4.5   \n",
       "\n",
       "   Mileage_KM  Price_USD  Sales_Volume  \n",
       "0      151748      98740          8300  \n",
       "1      121671      79219          3428  \n",
       "2       10991     113265          6994  "
      ]
     },
     "execution_count": 50,
     "metadata": {},
     "output_type": "execute_result"
    }
   ],
   "source": [
    "x2.head(3)"
   ]
  },
  {
   "cell_type": "code",
   "execution_count": 51,
   "id": "704fae2b-5e33-42e8-b999-36976bdf58b8",
   "metadata": {},
   "outputs": [
    {
     "data": {
      "text/plain": [
       "Model\n",
       "2.0     4666\n",
       "9.0     4618\n",
       "10.0    4606\n",
       "0.0     4595\n",
       "1.0     4592\n",
       "5.0     4570\n",
       "6.0     4497\n",
       "7.0     4487\n",
       "4.0     4478\n",
       "8.0     4478\n",
       "3.0     4413\n",
       "Name: count, dtype: int64"
      ]
     },
     "execution_count": 51,
     "metadata": {},
     "output_type": "execute_result"
    }
   ],
   "source": [
    "x2['Model'].value_counts()"
   ]
  },
  {
   "cell_type": "code",
   "execution_count": null,
   "id": "cc0c560a-ca5a-44fc-a8c4-10211b3491f1",
   "metadata": {},
   "outputs": [],
   "source": []
  },
  {
   "cell_type": "code",
   "execution_count": null,
   "id": "649839c6-f21e-413a-8175-c0b814b09869",
   "metadata": {},
   "outputs": [],
   "source": []
  }
 ],
 "metadata": {
  "kernelspec": {
   "display_name": "Python 3 (ipykernel)",
   "language": "python",
   "name": "python3"
  },
  "language_info": {
   "codemirror_mode": {
    "name": "ipython",
    "version": 3
   },
   "file_extension": ".py",
   "mimetype": "text/x-python",
   "name": "python",
   "nbconvert_exporter": "python",
   "pygments_lexer": "ipython3",
   "version": "3.13.3"
  },
  "widgets": {
   "application/vnd.jupyter.widget-state+json": {
    "state": {},
    "version_major": 2,
    "version_minor": 0
   }
  }
 },
 "nbformat": 4,
 "nbformat_minor": 5
}
