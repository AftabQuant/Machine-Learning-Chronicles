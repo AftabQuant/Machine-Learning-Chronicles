{
 "cells": [
  {
   "cell_type": "code",
   "execution_count": 1,
   "id": "5d595580-f0cb-4768-804b-d365fcc4f698",
   "metadata": {},
   "outputs": [],
   "source": [
    "import numpy as np\n",
    "import pandas as pd\n",
    "import matplotlib.pyplot as plt\n",
    "import seaborn as sns\n",
    "\n",
    "import warnings\n",
    "warnings.filterwarnings('ignore')"
   ]
  },
  {
   "cell_type": "code",
   "execution_count": 2,
   "id": "4f4cbd2e-5ff0-4a94-b720-745ca3cc688a",
   "metadata": {},
   "outputs": [],
   "source": [
    "df = pd.read_csv(r\"D:\\Ultimate Programming\\Data Bases\\BMW sales data (2010-2024) (1).csv\")"
   ]
  },
  {
   "cell_type": "code",
   "execution_count": 3,
   "id": "504ce128-51fe-41c2-82e8-f872936b72ce",
   "metadata": {},
   "outputs": [
    {
     "data": {
      "text/html": [
       "<div>\n",
       "<style scoped>\n",
       "    .dataframe tbody tr th:only-of-type {\n",
       "        vertical-align: middle;\n",
       "    }\n",
       "\n",
       "    .dataframe tbody tr th {\n",
       "        vertical-align: top;\n",
       "    }\n",
       "\n",
       "    .dataframe thead th {\n",
       "        text-align: right;\n",
       "    }\n",
       "</style>\n",
       "<table border=\"1\" class=\"dataframe\">\n",
       "  <thead>\n",
       "    <tr style=\"text-align: right;\">\n",
       "      <th></th>\n",
       "      <th>Model</th>\n",
       "      <th>Year</th>\n",
       "      <th>Region</th>\n",
       "      <th>Color</th>\n",
       "      <th>Fuel_Type</th>\n",
       "      <th>Transmission</th>\n",
       "      <th>Engine_Size_L</th>\n",
       "      <th>Mileage_KM</th>\n",
       "      <th>Price_USD</th>\n",
       "      <th>Sales_Volume</th>\n",
       "      <th>Sales_Classification</th>\n",
       "    </tr>\n",
       "  </thead>\n",
       "  <tbody>\n",
       "    <tr>\n",
       "      <th>0</th>\n",
       "      <td>5 Series</td>\n",
       "      <td>2016</td>\n",
       "      <td>Asia</td>\n",
       "      <td>Red</td>\n",
       "      <td>Petrol</td>\n",
       "      <td>Manual</td>\n",
       "      <td>3.5</td>\n",
       "      <td>151748</td>\n",
       "      <td>98740</td>\n",
       "      <td>8300</td>\n",
       "      <td>High</td>\n",
       "    </tr>\n",
       "    <tr>\n",
       "      <th>1</th>\n",
       "      <td>i8</td>\n",
       "      <td>2013</td>\n",
       "      <td>North America</td>\n",
       "      <td>Red</td>\n",
       "      <td>Hybrid</td>\n",
       "      <td>Automatic</td>\n",
       "      <td>1.6</td>\n",
       "      <td>121671</td>\n",
       "      <td>79219</td>\n",
       "      <td>3428</td>\n",
       "      <td>Low</td>\n",
       "    </tr>\n",
       "  </tbody>\n",
       "</table>\n",
       "</div>"
      ],
      "text/plain": [
       "      Model  Year         Region Color Fuel_Type Transmission  Engine_Size_L  \\\n",
       "0  5 Series  2016           Asia   Red    Petrol       Manual            3.5   \n",
       "1        i8  2013  North America   Red    Hybrid    Automatic            1.6   \n",
       "\n",
       "   Mileage_KM  Price_USD  Sales_Volume Sales_Classification  \n",
       "0      151748      98740          8300                 High  \n",
       "1      121671      79219          3428                  Low  "
      ]
     },
     "execution_count": 3,
     "metadata": {},
     "output_type": "execute_result"
    }
   ],
   "source": [
    "df.head(2)"
   ]
  },
  {
   "cell_type": "code",
   "execution_count": 4,
   "id": "000f1270-602d-4467-a3b0-846b173c58f3",
   "metadata": {},
   "outputs": [
    {
     "name": "stdout",
     "output_type": "stream",
     "text": [
      "<class 'pandas.core.frame.DataFrame'>\n",
      "RangeIndex: 50000 entries, 0 to 49999\n",
      "Data columns (total 11 columns):\n",
      " #   Column                Non-Null Count  Dtype  \n",
      "---  ------                --------------  -----  \n",
      " 0   Model                 50000 non-null  object \n",
      " 1   Year                  50000 non-null  int64  \n",
      " 2   Region                50000 non-null  object \n",
      " 3   Color                 50000 non-null  object \n",
      " 4   Fuel_Type             50000 non-null  object \n",
      " 5   Transmission          50000 non-null  object \n",
      " 6   Engine_Size_L         50000 non-null  float64\n",
      " 7   Mileage_KM            50000 non-null  int64  \n",
      " 8   Price_USD             50000 non-null  int64  \n",
      " 9   Sales_Volume          50000 non-null  int64  \n",
      " 10  Sales_Classification  50000 non-null  object \n",
      "dtypes: float64(1), int64(4), object(6)\n",
      "memory usage: 4.2+ MB\n"
     ]
    }
   ],
   "source": [
    "df.info()"
   ]
  },
  {
   "cell_type": "code",
   "execution_count": 5,
   "id": "a1453ef2-8afa-41ee-b843-683bd3cde851",
   "metadata": {},
   "outputs": [
    {
     "data": {
      "text/html": [
       "<div>\n",
       "<style scoped>\n",
       "    .dataframe tbody tr th:only-of-type {\n",
       "        vertical-align: middle;\n",
       "    }\n",
       "\n",
       "    .dataframe tbody tr th {\n",
       "        vertical-align: top;\n",
       "    }\n",
       "\n",
       "    .dataframe thead th {\n",
       "        text-align: right;\n",
       "    }\n",
       "</style>\n",
       "<table border=\"1\" class=\"dataframe\">\n",
       "  <thead>\n",
       "    <tr style=\"text-align: right;\">\n",
       "      <th></th>\n",
       "      <th>Year</th>\n",
       "      <th>Engine_Size_L</th>\n",
       "      <th>Mileage_KM</th>\n",
       "      <th>Price_USD</th>\n",
       "      <th>Sales_Volume</th>\n",
       "    </tr>\n",
       "  </thead>\n",
       "  <tbody>\n",
       "    <tr>\n",
       "      <th>count</th>\n",
       "      <td>50000.000000</td>\n",
       "      <td>50000.000000</td>\n",
       "      <td>50000.000000</td>\n",
       "      <td>50000.000000</td>\n",
       "      <td>50000.000000</td>\n",
       "    </tr>\n",
       "    <tr>\n",
       "      <th>mean</th>\n",
       "      <td>2017.015700</td>\n",
       "      <td>3.247180</td>\n",
       "      <td>100307.203140</td>\n",
       "      <td>75034.600900</td>\n",
       "      <td>5067.514680</td>\n",
       "    </tr>\n",
       "    <tr>\n",
       "      <th>std</th>\n",
       "      <td>4.324459</td>\n",
       "      <td>1.009078</td>\n",
       "      <td>57941.509344</td>\n",
       "      <td>25998.248882</td>\n",
       "      <td>2856.767125</td>\n",
       "    </tr>\n",
       "    <tr>\n",
       "      <th>min</th>\n",
       "      <td>2010.000000</td>\n",
       "      <td>1.500000</td>\n",
       "      <td>3.000000</td>\n",
       "      <td>30000.000000</td>\n",
       "      <td>100.000000</td>\n",
       "    </tr>\n",
       "    <tr>\n",
       "      <th>25%</th>\n",
       "      <td>2013.000000</td>\n",
       "      <td>2.400000</td>\n",
       "      <td>50178.000000</td>\n",
       "      <td>52434.750000</td>\n",
       "      <td>2588.000000</td>\n",
       "    </tr>\n",
       "    <tr>\n",
       "      <th>50%</th>\n",
       "      <td>2017.000000</td>\n",
       "      <td>3.200000</td>\n",
       "      <td>100388.500000</td>\n",
       "      <td>75011.500000</td>\n",
       "      <td>5087.000000</td>\n",
       "    </tr>\n",
       "    <tr>\n",
       "      <th>75%</th>\n",
       "      <td>2021.000000</td>\n",
       "      <td>4.100000</td>\n",
       "      <td>150630.250000</td>\n",
       "      <td>97628.250000</td>\n",
       "      <td>7537.250000</td>\n",
       "    </tr>\n",
       "    <tr>\n",
       "      <th>max</th>\n",
       "      <td>2024.000000</td>\n",
       "      <td>5.000000</td>\n",
       "      <td>199996.000000</td>\n",
       "      <td>119998.000000</td>\n",
       "      <td>9999.000000</td>\n",
       "    </tr>\n",
       "  </tbody>\n",
       "</table>\n",
       "</div>"
      ],
      "text/plain": [
       "               Year  Engine_Size_L     Mileage_KM      Price_USD  Sales_Volume\n",
       "count  50000.000000   50000.000000   50000.000000   50000.000000  50000.000000\n",
       "mean    2017.015700       3.247180  100307.203140   75034.600900   5067.514680\n",
       "std        4.324459       1.009078   57941.509344   25998.248882   2856.767125\n",
       "min     2010.000000       1.500000       3.000000   30000.000000    100.000000\n",
       "25%     2013.000000       2.400000   50178.000000   52434.750000   2588.000000\n",
       "50%     2017.000000       3.200000  100388.500000   75011.500000   5087.000000\n",
       "75%     2021.000000       4.100000  150630.250000   97628.250000   7537.250000\n",
       "max     2024.000000       5.000000  199996.000000  119998.000000   9999.000000"
      ]
     },
     "execution_count": 5,
     "metadata": {},
     "output_type": "execute_result"
    }
   ],
   "source": [
    "df.describe()"
   ]
  },
  {
   "cell_type": "code",
   "execution_count": 6,
   "id": "d0f0b924-11b9-49de-84ea-265655f76351",
   "metadata": {},
   "outputs": [
    {
     "name": "stdout",
     "output_type": "stream",
     "text": [
      "-4835.875 14961.125\n"
     ]
    }
   ],
   "source": [
    "q1 = df['Sales_Volume'].quantile(0.25)\n",
    "q3 = df['Sales_Volume'].quantile(0.75)\n",
    "\n",
    "iqr = q3 - q1\n",
    "\n",
    "min_range = q1 - (iqr*1.5)\n",
    "max_range = q3 + (iqr*1.5)\n",
    "\n",
    "print(min_range, max_range)"
   ]
  },
  {
   "cell_type": "code",
   "execution_count": 7,
   "id": "68a90bad-46f6-460e-a51e-abd6b4da9fc5",
   "metadata": {},
   "outputs": [
    {
     "data": {
      "image/png": "[encoded data removed]",
      "text/plain": [
       "<Figure size 640x480 with 1 Axes>"
      ]
     },
     "metadata": {},
     "output_type": "display_data"
    }
   ],
   "source": [
    "sns.boxplot(x='Sales_Volume', data=df)\n",
    "plt.show()"
   ]
  },
  {
   "cell_type": "code",
   "execution_count": 8,
   "id": "7bceb215-1f0c-4613-a6c2-8ad77e577279",
   "metadata": {},
   "outputs": [
    {
     "data": {
      "image/png": "[encoded data removed]",
      "text/plain": [
       "<Figure size 640x480 with 1 Axes>"
      ]
     },
     "metadata": {},
     "output_type": "display_data"
    }
   ],
   "source": [
    "sns.boxplot(x='Mileage_KM', data=df)\n",
    "plt.show()"
   ]
  },
  {
   "cell_type": "code",
   "execution_count": 9,
   "id": "f6c2fc4d-59ff-4af6-9b6b-02c10df5b6d7",
   "metadata": {},
   "outputs": [
    {
     "name": "stdout",
     "output_type": "stream",
     "text": [
      "-100500.375 301308.625\n"
     ]
    }
   ],
   "source": [
    "q1 = df['Mileage_KM'].quantile(0.25)\n",
    "q3 = df['Mileage_KM'].quantile(0.75)\n",
    "\n",
    "iqr = q3 - q1\n",
    "\n",
    "min_range = q1 - (iqr*1.5)\n",
    "max_range = q3 + (iqr*1.5)\n",
    "\n",
    "print(min_range, max_range)"
   ]
  },
  {
   "cell_type": "code",
   "execution_count": null,
   "id": "10e20138-7be4-4a0a-9094-c3e6a4a62e09",
   "metadata": {},
   "outputs": [],
   "source": []
  },
  {
   "cell_type": "code",
   "execution_count": null,
   "id": "095a63d4-5de3-45c9-bfec-9bb49ba8bd4c",
   "metadata": {},
   "outputs": [],
   "source": []
  },
  {
   "cell_type": "code",
   "execution_count": null,
   "id": "de33cdb3-676e-4262-b8af-ef400214c412",
   "metadata": {},
   "outputs": [],
   "source": []
  },
  {
   "cell_type": "markdown",
   "id": "19158a46-0ef1-4ba8-8b95-11a57f6c22c6",
   "metadata": {},
   "source": [
    "## Feature Scaling Technique"
   ]
  },
  {
   "cell_type": "code",
   "execution_count": 10,
   "id": "574a9914-937c-439d-b28c-b0ed13a5f1d6",
   "metadata": {},
   "outputs": [],
   "source": [
    "from sklearn.preprocessing import Normalizer, MinMaxScaler"
   ]
  },
  {
   "cell_type": "code",
   "execution_count": 13,
   "id": "3901500d-fd1d-4cd0-9db4-2192a97c482a",
   "metadata": {},
   "outputs": [
    {
     "data": {
      "text/plain": [
       "Index(['Year', 'Engine_Size_L', 'Mileage_KM', 'Price_USD', 'Sales_Volume'], dtype='object')"
      ]
     },
     "execution_count": 13,
     "metadata": {},
     "output_type": "execute_result"
    }
   ],
   "source": [
    "df.select_dtypes(include=['float64', 'int64']).columns"
   ]
  },
  {
   "cell_type": "code",
   "execution_count": 14,
   "id": "2815c4ac-8910-460c-8a23-803254286d7a",
   "metadata": {},
   "outputs": [],
   "source": [
    "mms = MinMaxScaler()\n",
    "df[['Engine_Size_L', 'Mileage_KM', 'Price_USD', 'Sales_Volume']] = mms.fit_transform(df[['Engine_Size_L', 'Mileage_KM', 'Price_USD', 'Sales_Volume']])"
   ]
  },
  {
   "cell_type": "code",
   "execution_count": 15,
   "id": "997230ff-c87a-4271-85bf-2c01003fc854",
   "metadata": {},
   "outputs": [
    {
     "data": {
      "text/html": [
       "<div>\n",
       "<style scoped>\n",
       "    .dataframe tbody tr th:only-of-type {\n",
       "        vertical-align: middle;\n",
       "    }\n",
       "\n",
       "    .dataframe tbody tr th {\n",
       "        vertical-align: top;\n",
       "    }\n",
       "\n",
       "    .dataframe thead th {\n",
       "        text-align: right;\n",
       "    }\n",
       "</style>\n",
       "<table border=\"1\" class=\"dataframe\">\n",
       "  <thead>\n",
       "    <tr style=\"text-align: right;\">\n",
       "      <th></th>\n",
       "      <th>Model</th>\n",
       "      <th>Year</th>\n",
       "      <th>Region</th>\n",
       "      <th>Color</th>\n",
       "      <th>Fuel_Type</th>\n",
       "      <th>Transmission</th>\n",
       "      <th>Engine_Size_L</th>\n",
       "      <th>Mileage_KM</th>\n",
       "      <th>Price_USD</th>\n",
       "      <th>Sales_Volume</th>\n",
       "      <th>Sales_Classification</th>\n",
       "    </tr>\n",
       "  </thead>\n",
       "  <tbody>\n",
       "    <tr>\n",
       "      <th>0</th>\n",
       "      <td>5 Series</td>\n",
       "      <td>2016</td>\n",
       "      <td>Asia</td>\n",
       "      <td>Red</td>\n",
       "      <td>Petrol</td>\n",
       "      <td>Manual</td>\n",
       "      <td>0.571429</td>\n",
       "      <td>0.758752</td>\n",
       "      <td>0.763795</td>\n",
       "      <td>0.828367</td>\n",
       "      <td>High</td>\n",
       "    </tr>\n",
       "    <tr>\n",
       "      <th>1</th>\n",
       "      <td>i8</td>\n",
       "      <td>2013</td>\n",
       "      <td>North America</td>\n",
       "      <td>Red</td>\n",
       "      <td>Hybrid</td>\n",
       "      <td>Automatic</td>\n",
       "      <td>0.028571</td>\n",
       "      <td>0.608361</td>\n",
       "      <td>0.546890</td>\n",
       "      <td>0.336196</td>\n",
       "      <td>Low</td>\n",
       "    </tr>\n",
       "  </tbody>\n",
       "</table>\n",
       "</div>"
      ],
      "text/plain": [
       "      Model  Year         Region Color Fuel_Type Transmission  Engine_Size_L  \\\n",
       "0  5 Series  2016           Asia   Red    Petrol       Manual       0.571429   \n",
       "1        i8  2013  North America   Red    Hybrid    Automatic       0.028571   \n",
       "\n",
       "   Mileage_KM  Price_USD  Sales_Volume Sales_Classification  \n",
       "0    0.758752   0.763795      0.828367                 High  \n",
       "1    0.608361   0.546890      0.336196                  Low  "
      ]
     },
     "execution_count": 15,
     "metadata": {},
     "output_type": "execute_result"
    }
   ],
   "source": [
    "df.head(2)"
   ]
  },
  {
   "cell_type": "code",
   "execution_count": 16,
   "id": "f3933509-f1c3-409e-a2b8-66d34fe5e0dc",
   "metadata": {},
   "outputs": [
    {
     "data": {
      "text/html": [
       "<div>\n",
       "<style scoped>\n",
       "    .dataframe tbody tr th:only-of-type {\n",
       "        vertical-align: middle;\n",
       "    }\n",
       "\n",
       "    .dataframe tbody tr th {\n",
       "        vertical-align: top;\n",
       "    }\n",
       "\n",
       "    .dataframe thead th {\n",
       "        text-align: right;\n",
       "    }\n",
       "</style>\n",
       "<table border=\"1\" class=\"dataframe\">\n",
       "  <thead>\n",
       "    <tr style=\"text-align: right;\">\n",
       "      <th></th>\n",
       "      <th>Year</th>\n",
       "      <th>Engine_Size_L</th>\n",
       "      <th>Mileage_KM</th>\n",
       "      <th>Price_USD</th>\n",
       "      <th>Sales_Volume</th>\n",
       "    </tr>\n",
       "  </thead>\n",
       "  <tbody>\n",
       "    <tr>\n",
       "      <th>count</th>\n",
       "      <td>50000.000000</td>\n",
       "      <td>50000.000000</td>\n",
       "      <td>50000.000000</td>\n",
       "      <td>50000.000000</td>\n",
       "      <td>50000.000000</td>\n",
       "    </tr>\n",
       "    <tr>\n",
       "      <th>mean</th>\n",
       "      <td>2017.015700</td>\n",
       "      <td>0.499194</td>\n",
       "      <td>0.501539</td>\n",
       "      <td>0.500396</td>\n",
       "      <td>0.501820</td>\n",
       "    </tr>\n",
       "    <tr>\n",
       "      <th>std</th>\n",
       "      <td>4.324459</td>\n",
       "      <td>0.288308</td>\n",
       "      <td>0.289718</td>\n",
       "      <td>0.288876</td>\n",
       "      <td>0.288591</td>\n",
       "    </tr>\n",
       "    <tr>\n",
       "      <th>min</th>\n",
       "      <td>2010.000000</td>\n",
       "      <td>0.000000</td>\n",
       "      <td>0.000000</td>\n",
       "      <td>0.000000</td>\n",
       "      <td>0.000000</td>\n",
       "    </tr>\n",
       "    <tr>\n",
       "      <th>25%</th>\n",
       "      <td>2013.000000</td>\n",
       "      <td>0.257143</td>\n",
       "      <td>0.250884</td>\n",
       "      <td>0.249281</td>\n",
       "      <td>0.251339</td>\n",
       "    </tr>\n",
       "    <tr>\n",
       "      <th>50%</th>\n",
       "      <td>2017.000000</td>\n",
       "      <td>0.485714</td>\n",
       "      <td>0.501945</td>\n",
       "      <td>0.500139</td>\n",
       "      <td>0.503788</td>\n",
       "    </tr>\n",
       "    <tr>\n",
       "      <th>75%</th>\n",
       "      <td>2021.000000</td>\n",
       "      <td>0.742857</td>\n",
       "      <td>0.753163</td>\n",
       "      <td>0.751442</td>\n",
       "      <td>0.751313</td>\n",
       "    </tr>\n",
       "    <tr>\n",
       "      <th>max</th>\n",
       "      <td>2024.000000</td>\n",
       "      <td>1.000000</td>\n",
       "      <td>1.000000</td>\n",
       "      <td>1.000000</td>\n",
       "      <td>1.000000</td>\n",
       "    </tr>\n",
       "  </tbody>\n",
       "</table>\n",
       "</div>"
      ],
      "text/plain": [
       "               Year  Engine_Size_L    Mileage_KM     Price_USD  Sales_Volume\n",
       "count  50000.000000   50000.000000  50000.000000  50000.000000  50000.000000\n",
       "mean    2017.015700       0.499194      0.501539      0.500396      0.501820\n",
       "std        4.324459       0.288308      0.289718      0.288876      0.288591\n",
       "min     2010.000000       0.000000      0.000000      0.000000      0.000000\n",
       "25%     2013.000000       0.257143      0.250884      0.249281      0.251339\n",
       "50%     2017.000000       0.485714      0.501945      0.500139      0.503788\n",
       "75%     2021.000000       0.742857      0.753163      0.751442      0.751313\n",
       "max     2024.000000       1.000000      1.000000      1.000000      1.000000"
      ]
     },
     "execution_count": 16,
     "metadata": {},
     "output_type": "execute_result"
    }
   ],
   "source": [
    "df.describe()"
   ]
  },
  {
   "cell_type": "code",
   "execution_count": 23,
   "id": "c22f247a-b98e-43c4-9cf9-f045e4bb314f",
   "metadata": {},
   "outputs": [
    {
     "data": {
      "image/png": "[encoded data removed]",
      "text/plain": [
       "<Figure size 700x700 with 4 Axes>"
      ]
     },
     "metadata": {},
     "output_type": "display_data"
    }
   ],
   "source": [
    "plt.figure(figsize=(7,7))\n",
    "\n",
    "plt.subplot(2, 2, 1)\n",
    "sns.kdeplot(df['Engine_Size_L'], fill=True)\n",
    "plt.title('Engine Size Distribution')\n",
    "\n",
    "plt.subplot(2, 2, 2)\n",
    "sns.kdeplot(df['Mileage_KM'], fill=True)\n",
    "plt.title('Mileage Distribution')\n",
    "\n",
    "plt.subplot(2, 2, 3)\n",
    "sns.kdeplot(df['Price_USD'], fill=True)\n",
    "plt.title('Price Distribution')\n",
    "\n",
    "plt.subplot(2, 2, 4)\n",
    "sns.kdeplot(df['Sales_Volume'], fill=True)\n",
    "plt.title('Sales Volume Distribution')\n",
    "\n",
    "plt.tight_layout()\n",
    "plt.show()"
   ]
  },
  {
   "cell_type": "code",
   "execution_count": null,
   "id": "40b3737c-8144-4ff4-b1ce-0dce1d3e17a5",
   "metadata": {},
   "outputs": [],
   "source": []
  }
 ],
 "metadata": {
  "kernelspec": {
   "display_name": "Python 3 (ipykernel)",
   "language": "python",
   "name": "python3"
  },
  "language_info": {
   "codemirror_mode": {
    "name": "ipython",
    "version": 3
   },
   "file_extension": ".py",
   "mimetype": "text/x-python",
   "name": "python",
   "nbconvert_exporter": "python",
   "pygments_lexer": "ipython3",
   "version": "3.13.3"
  },
  "widgets": {
   "application/vnd.jupyter.widget-state+json": {
    "state": {},
    "version_major": 2,
    "version_minor": 0
   }
  }
 },
 "nbformat": 4,
 "nbformat_minor": 5
}
