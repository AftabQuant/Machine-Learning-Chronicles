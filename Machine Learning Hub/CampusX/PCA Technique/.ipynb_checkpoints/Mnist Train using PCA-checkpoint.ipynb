{
 "cells": [
  {
   "cell_type": "code",
   "execution_count": 1,
   "id": "ac9b2418-4a0b-4bbd-a088-b19e279e5530",
   "metadata": {},
   "outputs": [],
   "source": [
    "import numpy as np\n",
    "import pandas as pd\n",
    "import seaborn as sns\n",
    "import matplotlib.pyplot as plt\n",
    "from sklearn.preprocessing import StandardScaler\n",
    "from sklearn.model_selection import train_test_split\n",
    "from sklearn.datasets import load_iris\n",
    "from sklearn.decomposition import PCA\n",
    "from sklearn.neighbors import KNeighborsClassifier\n",
    "from sklearn.metrics import accuracy_score\n",
    "\n",
    "import warnings\n",
    "warnings.filterwarnings('ignore')"
   ]
  },
  {
   "cell_type": "code",
   "execution_count": null,
   "id": "50e8e5fd-f471-4e3e-934f-577bb4b386f8",
   "metadata": {},
   "outputs": [],
   "source": [
    "df = pd.read_csv(r\"D:\\Ultimate Programming\\Data Bases\\mnist_train.csv\")"
   ]
  },
  {
   "cell_type": "code",
   "execution_count": null,
   "id": "840b082f-11be-40ba-9c56-f05c1a8c07ee",
   "metadata": {},
   "outputs": [],
   "source": [
    "df.head(4)"
   ]
  },
  {
   "cell_type": "code",
   "execution_count": null,
   "id": "b7653afb-1759-4a81-a854-0ac57abf14ed",
   "metadata": {},
   "outputs": [],
   "source": [
    "plt.imshow(df.iloc[1352, 1 : ].values.reshape(28, 28))\n",
    "plt.show()"
   ]
  },
  {
   "cell_type": "code",
   "execution_count": null,
   "id": "5ab109ec-d0a5-40c3-8ed9-e30229075ad7",
   "metadata": {},
   "outputs": [],
   "source": [
    "x = df.iloc[ : , 1 : ]\n",
    "y = df.iloc[ : , 0]"
   ]
  },
  {
   "cell_type": "code",
   "execution_count": null,
   "id": "dbb264e6-a164-4020-b049-3d37c7da27b8",
   "metadata": {},
   "outputs": [],
   "source": [
    "x.head(2)"
   ]
  },
  {
   "cell_type": "code",
   "execution_count": null,
   "id": "d0e145d7-5439-45bf-ba21-5b820df12c3f",
   "metadata": {},
   "outputs": [],
   "source": [
    "x_train, x_test, y_train, y_test = train_test_split(x, y, test_size=0.2, random_state=42)"
   ]
  },
  {
   "cell_type": "markdown",
   "id": "61ff4802-9681-4b83-956b-46291f84ff17",
   "metadata": {},
   "source": [
    "## Principle Component Analysis"
   ]
  },
  {
   "cell_type": "code",
   "execution_count": null,
   "id": "771d17fe-1ce8-4e96-9651-b3b16559a708",
   "metadata": {},
   "outputs": [],
   "source": [
    "ss = StandardScaler()\n",
    "x_train = ss.fit_transform(x_train)\n",
    "x_test = ss.fit_transform(x_test)"
   ]
  },
  {
   "cell_type": "code",
   "execution_count": null,
   "id": "2fd2a3f1-4d20-4820-8a34-5cdcfd135a83",
   "metadata": {},
   "outputs": [],
   "source": [
    "pca = PCA(n_components=100)\n",
    "x_train_pca = pca.fit_transform(x_train)\n",
    "x_test_pca = pca.fit_transform(x_test)"
   ]
  },
  {
   "cell_type": "code",
   "execution_count": null,
   "id": "f22e634c-c269-4cd6-af5f-f3e3eb7fd392",
   "metadata": {},
   "outputs": [],
   "source": [
    "x_train_pca.shape"
   ]
  },
  {
   "cell_type": "code",
   "execution_count": null,
   "id": "aa4b9611-e3a4-43a3-981d-93502b120251",
   "metadata": {},
   "outputs": [],
   "source": [
    "knn = KNeighborsClassifier()\n",
    "knn.fit(x_train_pca, y_train)"
   ]
  },
  {
   "cell_type": "code",
   "execution_count": null,
   "id": "069e58ee-8508-4141-92b6-7668774be41a",
   "metadata": {},
   "outputs": [],
   "source": [
    "round(knn.score(x_train_pca, y_train)*100, 3)"
   ]
  },
  {
   "cell_type": "code",
   "execution_count": null,
   "id": "f0644b43-ade0-4d1f-8601-859e1f3c3585",
   "metadata": {},
   "outputs": [],
   "source": [
    "print(accuracy_score(y_test, knn.predict(x_test_pca))*100)"
   ]
  },
  {
   "cell_type": "code",
   "execution_count": null,
   "id": "1e72210c-e936-4093-a2fe-5ffb552d376b",
   "metadata": {},
   "outputs": [],
   "source": [
    "for i in range(1, 785):\n",
    "    pca = PCA(n_components=i)\n",
    "    x_train_pca = pca.fit_transform(x_train)\n",
    "    x_test_pca = pca.fit_transform(x_test)\n",
    "    knn = KNeighborsClassifier()\n",
    "    knn.fit(x_train_pca, y_train)\n",
    "    print(f\"For : {i} : {round(accuracy_score(y_test, knn.predict(x_test_pca))*100, 3)}\")"
   ]
  },
  {
   "cell_type": "code",
   "execution_count": null,
   "id": "a59df856-3c13-4f8c-aa20-38cc15bf0319",
   "metadata": {},
   "outputs": [],
   "source": []
  }
 ],
 "metadata": {
  "kernelspec": {
   "display_name": "Python 3 (ipykernel)",
   "language": "python",
   "name": "python3"
  },
  "language_info": {
   "codemirror_mode": {
    "name": "ipython",
    "version": 3
   },
   "file_extension": ".py",
   "mimetype": "text/x-python",
   "name": "python",
   "nbconvert_exporter": "python",
   "pygments_lexer": "ipython3",
   "version": "3.13.3"
  },
  "widgets": {
   "application/vnd.jupyter.widget-state+json": {
    "state": {},
    "version_major": 2,
    "version_minor": 0
   }
  }
 },
 "nbformat": 4,
 "nbformat_minor": 5
}
