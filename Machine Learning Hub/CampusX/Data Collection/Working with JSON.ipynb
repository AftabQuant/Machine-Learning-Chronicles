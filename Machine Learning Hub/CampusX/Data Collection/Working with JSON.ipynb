{
 "cells": [
  {
   "cell_type": "code",
   "execution_count": 1,
   "id": "b0e36348-b170-4e51-9a46-0bfc5bea7126",
   "metadata": {},
   "outputs": [],
   "source": [
    "import pandas as pd"
   ]
  },
  {
   "cell_type": "code",
   "execution_count": 2,
   "id": "32696e34-f533-4585-8dd4-b9a7e287c64f",
   "metadata": {},
   "outputs": [],
   "source": [
    "df = pd.read_json('structured_car_data_cleaned.json')"
   ]
  },
  {
   "cell_type": "code",
   "execution_count": 3,
   "id": "a359fcb4-adf5-476b-b8b9-b89cebda9b2a",
   "metadata": {},
   "outputs": [
    {
     "data": {
      "text/html": [
       "<div>\n",
       "<style scoped>\n",
       "    .dataframe tbody tr th:only-of-type {\n",
       "        vertical-align: middle;\n",
       "    }\n",
       "\n",
       "    .dataframe tbody tr th {\n",
       "        vertical-align: top;\n",
       "    }\n",
       "\n",
       "    .dataframe thead th {\n",
       "        text-align: right;\n",
       "    }\n",
       "</style>\n",
       "<table border=\"1\" class=\"dataframe\">\n",
       "  <thead>\n",
       "    <tr style=\"text-align: right;\">\n",
       "      <th></th>\n",
       "      <th>name</th>\n",
       "      <th>price</th>\n",
       "      <th>fuel</th>\n",
       "      <th>mileage</th>\n",
       "      <th>transmission</th>\n",
       "      <th>cc</th>\n",
       "      <th>power</th>\n",
       "      <th>safety</th>\n",
       "      <th>seats</th>\n",
       "      <th>type</th>\n",
       "    </tr>\n",
       "  </thead>\n",
       "  <tbody>\n",
       "    <tr>\n",
       "      <th>0</th>\n",
       "      <td>Maruti Suzuki Ertiga</td>\n",
       "      <td>Rs.8.84 - 13.13 Lakh* (View On Road Price)</td>\n",
       "      <td>Petrol/CNG</td>\n",
       "      <td>20.51 kmpl</td>\n",
       "      <td>Manual/Automatic</td>\n",
       "      <td>1462 cc</td>\n",
       "      <td>101.64 bhp</td>\n",
       "      <td>1 Star Safety</td>\n",
       "      <td>None</td>\n",
       "      <td>car</td>\n",
       "    </tr>\n",
       "    <tr>\n",
       "      <th>1</th>\n",
       "      <td>Maruti Suzuki Swift</td>\n",
       "      <td>Rs.6.49 - 9.64 Lakh* (View On Road Price)</td>\n",
       "      <td>Petrol/CNG</td>\n",
       "      <td>25.75 kmpl</td>\n",
       "      <td>Manual/Automatic</td>\n",
       "      <td>1197 cc</td>\n",
       "      <td>80.46 bhp</td>\n",
       "      <td>4 Star Safety</td>\n",
       "      <td>None</td>\n",
       "      <td>car</td>\n",
       "    </tr>\n",
       "  </tbody>\n",
       "</table>\n",
       "</div>"
      ],
      "text/plain": [
       "                   name                                       price  \\\n",
       "0  Maruti Suzuki Ertiga  Rs.8.84 - 13.13 Lakh* (View On Road Price)   \n",
       "1   Maruti Suzuki Swift   Rs.6.49 - 9.64 Lakh* (View On Road Price)   \n",
       "\n",
       "         fuel     mileage      transmission       cc       power  \\\n",
       "0  Petrol/CNG  20.51 kmpl  Manual/Automatic  1462 cc  101.64 bhp   \n",
       "1  Petrol/CNG  25.75 kmpl  Manual/Automatic  1197 cc   80.46 bhp   \n",
       "\n",
       "          safety seats type  \n",
       "0  1 Star Safety  None  car  \n",
       "1  4 Star Safety  None  car  "
      ]
     },
     "execution_count": 3,
     "metadata": {},
     "output_type": "execute_result"
    }
   ],
   "source": [
    "df.head(2)"
   ]
  },
  {
   "cell_type": "markdown",
   "id": "811dc266-cd94-46ea-8ca6-60561b2c5af6",
   "metadata": {},
   "source": [
    "## Data Cleaning"
   ]
  },
  {
   "cell_type": "code",
   "execution_count": 4,
   "id": "782d1c54-c4fb-4437-ba5d-4afbfd595452",
   "metadata": {},
   "outputs": [],
   "source": [
    "df.rename(columns={'price' : 'price[On Road]'}, inplace=True)"
   ]
  },
  {
   "cell_type": "code",
   "execution_count": 5,
   "id": "da3130ad-437d-4c7b-b144-73be3ae47128",
   "metadata": {},
   "outputs": [
    {
     "data": {
      "text/html": [
       "<div>\n",
       "<style scoped>\n",
       "    .dataframe tbody tr th:only-of-type {\n",
       "        vertical-align: middle;\n",
       "    }\n",
       "\n",
       "    .dataframe tbody tr th {\n",
       "        vertical-align: top;\n",
       "    }\n",
       "\n",
       "    .dataframe thead th {\n",
       "        text-align: right;\n",
       "    }\n",
       "</style>\n",
       "<table border=\"1\" class=\"dataframe\">\n",
       "  <thead>\n",
       "    <tr style=\"text-align: right;\">\n",
       "      <th></th>\n",
       "      <th>name</th>\n",
       "      <th>price[On Road]</th>\n",
       "      <th>fuel</th>\n",
       "      <th>mileage</th>\n",
       "      <th>transmission</th>\n",
       "      <th>cc</th>\n",
       "      <th>power</th>\n",
       "      <th>safety</th>\n",
       "      <th>seats</th>\n",
       "      <th>type</th>\n",
       "    </tr>\n",
       "  </thead>\n",
       "  <tbody>\n",
       "    <tr>\n",
       "      <th>0</th>\n",
       "      <td>Maruti Suzuki Ertiga</td>\n",
       "      <td>Rs.8.84 - 13.13 Lakh* (View On Road Price)</td>\n",
       "      <td>Petrol/CNG</td>\n",
       "      <td>20.51 kmpl</td>\n",
       "      <td>Manual/Automatic</td>\n",
       "      <td>1462 cc</td>\n",
       "      <td>101.64 bhp</td>\n",
       "      <td>1 Star Safety</td>\n",
       "      <td>None</td>\n",
       "      <td>car</td>\n",
       "    </tr>\n",
       "  </tbody>\n",
       "</table>\n",
       "</div>"
      ],
      "text/plain": [
       "                   name                              price[On Road]  \\\n",
       "0  Maruti Suzuki Ertiga  Rs.8.84 - 13.13 Lakh* (View On Road Price)   \n",
       "\n",
       "         fuel     mileage      transmission       cc       power  \\\n",
       "0  Petrol/CNG  20.51 kmpl  Manual/Automatic  1462 cc  101.64 bhp   \n",
       "\n",
       "          safety seats type  \n",
       "0  1 Star Safety  None  car  "
      ]
     },
     "execution_count": 5,
     "metadata": {},
     "output_type": "execute_result"
    }
   ],
   "source": [
    "df.head(1)"
   ]
  },
  {
   "cell_type": "code",
   "execution_count": 6,
   "id": "a749395d-8523-454b-83de-ee77a6931d4d",
   "metadata": {},
   "outputs": [],
   "source": [
    "df['price[On Road]'] = df['price[On Road]'].replace(r'\\* \\(View On Road Price\\)','', regex=True)"
   ]
  },
  {
   "cell_type": "code",
   "execution_count": 7,
   "id": "030b4dee-88cf-460a-93d6-1dfc736f8904",
   "metadata": {},
   "outputs": [
    {
     "data": {
      "text/html": [
       "<div>\n",
       "<style scoped>\n",
       "    .dataframe tbody tr th:only-of-type {\n",
       "        vertical-align: middle;\n",
       "    }\n",
       "\n",
       "    .dataframe tbody tr th {\n",
       "        vertical-align: top;\n",
       "    }\n",
       "\n",
       "    .dataframe thead th {\n",
       "        text-align: right;\n",
       "    }\n",
       "</style>\n",
       "<table border=\"1\" class=\"dataframe\">\n",
       "  <thead>\n",
       "    <tr style=\"text-align: right;\">\n",
       "      <th></th>\n",
       "      <th>name</th>\n",
       "      <th>price[On Road]</th>\n",
       "      <th>fuel</th>\n",
       "      <th>mileage</th>\n",
       "      <th>transmission</th>\n",
       "      <th>cc</th>\n",
       "      <th>power</th>\n",
       "      <th>safety</th>\n",
       "      <th>seats</th>\n",
       "      <th>type</th>\n",
       "    </tr>\n",
       "  </thead>\n",
       "  <tbody>\n",
       "    <tr>\n",
       "      <th>0</th>\n",
       "      <td>Maruti Suzuki Ertiga</td>\n",
       "      <td>Rs.8.84 - 13.13 Lakh</td>\n",
       "      <td>Petrol/CNG</td>\n",
       "      <td>20.51 kmpl</td>\n",
       "      <td>Manual/Automatic</td>\n",
       "      <td>1462 cc</td>\n",
       "      <td>101.64 bhp</td>\n",
       "      <td>1 Star Safety</td>\n",
       "      <td>None</td>\n",
       "      <td>car</td>\n",
       "    </tr>\n",
       "    <tr>\n",
       "      <th>1</th>\n",
       "      <td>Maruti Suzuki Swift</td>\n",
       "      <td>Rs.6.49 - 9.64 Lakh</td>\n",
       "      <td>Petrol/CNG</td>\n",
       "      <td>25.75 kmpl</td>\n",
       "      <td>Manual/Automatic</td>\n",
       "      <td>1197 cc</td>\n",
       "      <td>80.46 bhp</td>\n",
       "      <td>4 Star Safety</td>\n",
       "      <td>None</td>\n",
       "      <td>car</td>\n",
       "    </tr>\n",
       "  </tbody>\n",
       "</table>\n",
       "</div>"
      ],
      "text/plain": [
       "                   name        price[On Road]        fuel     mileage  \\\n",
       "0  Maruti Suzuki Ertiga  Rs.8.84 - 13.13 Lakh  Petrol/CNG  20.51 kmpl   \n",
       "1   Maruti Suzuki Swift   Rs.6.49 - 9.64 Lakh  Petrol/CNG  25.75 kmpl   \n",
       "\n",
       "       transmission       cc       power         safety seats type  \n",
       "0  Manual/Automatic  1462 cc  101.64 bhp  1 Star Safety  None  car  \n",
       "1  Manual/Automatic  1197 cc   80.46 bhp  4 Star Safety  None  car  "
      ]
     },
     "execution_count": 7,
     "metadata": {},
     "output_type": "execute_result"
    }
   ],
   "source": [
    "df.head(2)"
   ]
  },
  {
   "cell_type": "code",
   "execution_count": 8,
   "id": "97d93af4-79ac-43d1-8aaf-5d3b646be748",
   "metadata": {},
   "outputs": [],
   "source": [
    "df['mileage'] = df['mileage'].replace(r'\\ kmpl', '', regex=True)\n",
    "df['cc'] = df['cc'].replace(r'\\ cc', '', regex=True)\n",
    "df['power'] = df['power'].replace(r'\\ bhp', '', regex=True)\n",
    "df['safety'] = df['safety'].replace(r'\\ Safety','', regex=True)"
   ]
  },
  {
   "cell_type": "code",
   "execution_count": 9,
   "id": "1da6a634-47fe-499d-8865-bbc6c4f8397e",
   "metadata": {},
   "outputs": [
    {
     "data": {
      "text/html": [
       "<div>\n",
       "<style scoped>\n",
       "    .dataframe tbody tr th:only-of-type {\n",
       "        vertical-align: middle;\n",
       "    }\n",
       "\n",
       "    .dataframe tbody tr th {\n",
       "        vertical-align: top;\n",
       "    }\n",
       "\n",
       "    .dataframe thead th {\n",
       "        text-align: right;\n",
       "    }\n",
       "</style>\n",
       "<table border=\"1\" class=\"dataframe\">\n",
       "  <thead>\n",
       "    <tr style=\"text-align: right;\">\n",
       "      <th></th>\n",
       "      <th>name</th>\n",
       "      <th>price[On Road]</th>\n",
       "      <th>fuel</th>\n",
       "      <th>mileage</th>\n",
       "      <th>transmission</th>\n",
       "      <th>cc</th>\n",
       "      <th>power</th>\n",
       "      <th>safety</th>\n",
       "      <th>seats</th>\n",
       "      <th>type</th>\n",
       "    </tr>\n",
       "  </thead>\n",
       "  <tbody>\n",
       "    <tr>\n",
       "      <th>0</th>\n",
       "      <td>Maruti Suzuki Ertiga</td>\n",
       "      <td>Rs.8.84 - 13.13 Lakh</td>\n",
       "      <td>Petrol/CNG</td>\n",
       "      <td>20.51</td>\n",
       "      <td>Manual/Automatic</td>\n",
       "      <td>1462</td>\n",
       "      <td>101.64</td>\n",
       "      <td>1 Star</td>\n",
       "      <td>None</td>\n",
       "      <td>car</td>\n",
       "    </tr>\n",
       "    <tr>\n",
       "      <th>1</th>\n",
       "      <td>Maruti Suzuki Swift</td>\n",
       "      <td>Rs.6.49 - 9.64 Lakh</td>\n",
       "      <td>Petrol/CNG</td>\n",
       "      <td>25.75</td>\n",
       "      <td>Manual/Automatic</td>\n",
       "      <td>1197</td>\n",
       "      <td>80.46</td>\n",
       "      <td>4 Star</td>\n",
       "      <td>None</td>\n",
       "      <td>car</td>\n",
       "    </tr>\n",
       "    <tr>\n",
       "      <th>2</th>\n",
       "      <td>Maruti Suzuki Dzire</td>\n",
       "      <td>Rs.6.84 - 10.19 Lakh</td>\n",
       "      <td>Petrol/CNG</td>\n",
       "      <td>25.71</td>\n",
       "      <td>Manual/Automatic</td>\n",
       "      <td>1197</td>\n",
       "      <td>80</td>\n",
       "      <td>5 Star</td>\n",
       "      <td>None</td>\n",
       "      <td>car</td>\n",
       "    </tr>\n",
       "  </tbody>\n",
       "</table>\n",
       "</div>"
      ],
      "text/plain": [
       "                   name        price[On Road]        fuel mileage  \\\n",
       "0  Maruti Suzuki Ertiga  Rs.8.84 - 13.13 Lakh  Petrol/CNG   20.51   \n",
       "1   Maruti Suzuki Swift   Rs.6.49 - 9.64 Lakh  Petrol/CNG   25.75   \n",
       "2   Maruti Suzuki Dzire  Rs.6.84 - 10.19 Lakh  Petrol/CNG   25.71   \n",
       "\n",
       "       transmission    cc   power  safety seats type  \n",
       "0  Manual/Automatic  1462  101.64  1 Star  None  car  \n",
       "1  Manual/Automatic  1197   80.46  4 Star  None  car  \n",
       "2  Manual/Automatic  1197      80  5 Star  None  car  "
      ]
     },
     "execution_count": 9,
     "metadata": {},
     "output_type": "execute_result"
    }
   ],
   "source": [
    "df.head(3)"
   ]
  },
  {
   "cell_type": "code",
   "execution_count": 10,
   "id": "af28b0a4-8026-4c32-bbe8-e26349ae4e6c",
   "metadata": {},
   "outputs": [],
   "source": [
    "df = df.rename(columns={'mileage' : 'mileage[kmpl]', 'cc' : 'cc[cc]', 'power' : 'power[bhp]'})"
   ]
  },
  {
   "cell_type": "code",
   "execution_count": 11,
   "id": "e7ccf39a-cffb-451c-8b92-2d9e3dff87bb",
   "metadata": {},
   "outputs": [
    {
     "data": {
      "text/html": [
       "<div>\n",
       "<style scoped>\n",
       "    .dataframe tbody tr th:only-of-type {\n",
       "        vertical-align: middle;\n",
       "    }\n",
       "\n",
       "    .dataframe tbody tr th {\n",
       "        vertical-align: top;\n",
       "    }\n",
       "\n",
       "    .dataframe thead th {\n",
       "        text-align: right;\n",
       "    }\n",
       "</style>\n",
       "<table border=\"1\" class=\"dataframe\">\n",
       "  <thead>\n",
       "    <tr style=\"text-align: right;\">\n",
       "      <th></th>\n",
       "      <th>name</th>\n",
       "      <th>price[On Road]</th>\n",
       "      <th>fuel</th>\n",
       "      <th>mileage[kmpl]</th>\n",
       "      <th>transmission</th>\n",
       "      <th>cc[cc]</th>\n",
       "      <th>power[bhp]</th>\n",
       "      <th>safety</th>\n",
       "      <th>seats</th>\n",
       "      <th>type</th>\n",
       "    </tr>\n",
       "  </thead>\n",
       "  <tbody>\n",
       "    <tr>\n",
       "      <th>0</th>\n",
       "      <td>Maruti Suzuki Ertiga</td>\n",
       "      <td>Rs.8.84 - 13.13 Lakh</td>\n",
       "      <td>Petrol/CNG</td>\n",
       "      <td>20.51</td>\n",
       "      <td>Manual/Automatic</td>\n",
       "      <td>1462</td>\n",
       "      <td>101.64</td>\n",
       "      <td>1 Star</td>\n",
       "      <td>None</td>\n",
       "      <td>car</td>\n",
       "    </tr>\n",
       "    <tr>\n",
       "      <th>1</th>\n",
       "      <td>Maruti Suzuki Swift</td>\n",
       "      <td>Rs.6.49 - 9.64 Lakh</td>\n",
       "      <td>Petrol/CNG</td>\n",
       "      <td>25.75</td>\n",
       "      <td>Manual/Automatic</td>\n",
       "      <td>1197</td>\n",
       "      <td>80.46</td>\n",
       "      <td>4 Star</td>\n",
       "      <td>None</td>\n",
       "      <td>car</td>\n",
       "    </tr>\n",
       "  </tbody>\n",
       "</table>\n",
       "</div>"
      ],
      "text/plain": [
       "                   name        price[On Road]        fuel mileage[kmpl]  \\\n",
       "0  Maruti Suzuki Ertiga  Rs.8.84 - 13.13 Lakh  Petrol/CNG         20.51   \n",
       "1   Maruti Suzuki Swift   Rs.6.49 - 9.64 Lakh  Petrol/CNG         25.75   \n",
       "\n",
       "       transmission cc[cc] power[bhp]  safety seats type  \n",
       "0  Manual/Automatic   1462     101.64  1 Star  None  car  \n",
       "1  Manual/Automatic   1197      80.46  4 Star  None  car  "
      ]
     },
     "execution_count": 11,
     "metadata": {},
     "output_type": "execute_result"
    }
   ],
   "source": [
    "df.head(2)"
   ]
  },
  {
   "cell_type": "code",
   "execution_count": 12,
   "id": "c63450d1-cd7c-4d75-9625-fb22c7f51f00",
   "metadata": {},
   "outputs": [
    {
     "name": "stdout",
     "output_type": "stream",
     "text": [
      "<class 'pandas.core.frame.DataFrame'>\n",
      "RangeIndex: 504 entries, 0 to 503\n",
      "Data columns (total 10 columns):\n",
      " #   Column          Non-Null Count  Dtype \n",
      "---  ------          --------------  ----- \n",
      " 0   name            504 non-null    object\n",
      " 1   price[On Road]  504 non-null    object\n",
      " 2   fuel            504 non-null    object\n",
      " 3   mileage[kmpl]   499 non-null    object\n",
      " 4   transmission    415 non-null    object\n",
      " 5   cc[cc]          385 non-null    object\n",
      " 6   power[bhp]      217 non-null    object\n",
      " 7   safety          159 non-null    object\n",
      " 8   seats           24 non-null     object\n",
      " 9   type            504 non-null    object\n",
      "dtypes: object(10)\n",
      "memory usage: 39.5+ KB\n"
     ]
    }
   ],
   "source": [
    "df.info()"
   ]
  },
  {
   "cell_type": "code",
   "execution_count": 14,
   "id": "b5cbfa73-e53c-4b6d-b279-1ae1a53a67b3",
   "metadata": {},
   "outputs": [],
   "source": [
    "df = df.drop(columns='seats')"
   ]
  },
  {
   "cell_type": "code",
   "execution_count": 15,
   "id": "939cae77-52d8-46ab-95be-a49019e0fb8e",
   "metadata": {},
   "outputs": [
    {
     "name": "stdout",
     "output_type": "stream",
     "text": [
      "845\n"
     ]
    }
   ],
   "source": [
    "print(df.isnull().sum().sum())"
   ]
  },
  {
   "cell_type": "code",
   "execution_count": null,
   "id": "3ac3152b-9a7c-4873-9d3a-3aec668ce7ca",
   "metadata": {},
   "outputs": [],
   "source": []
  }
 ],
 "metadata": {
  "kernelspec": {
   "display_name": "Python 3 (ipykernel)",
   "language": "python",
   "name": "python3"
  },
  "language_info": {
   "codemirror_mode": {
    "name": "ipython",
    "version": 3
   },
   "file_extension": ".py",
   "mimetype": "text/x-python",
   "name": "python",
   "nbconvert_exporter": "python",
   "pygments_lexer": "ipython3",
   "version": "3.13.3"
  },
  "widgets": {
   "application/vnd.jupyter.widget-state+json": {
    "state": {},
    "version_major": 2,
    "version_minor": 0
   }
  }
 },
 "nbformat": 4,
 "nbformat_minor": 5
}
