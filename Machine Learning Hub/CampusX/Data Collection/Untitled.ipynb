{
 "cells": [
  {
   "cell_type": "code",
   "execution_count": null,
   "id": "b0e36348-b170-4e51-9a46-0bfc5bea7126",
   "metadata": {},
   "outputs": [],
   "source": []
  }
 ],
 "metadata": {
  "kernelspec": {
   "display_name": "",
   "name": ""
  },
  "language_info": {
   "name": ""
  }
 },
 "nbformat": 4,
 "nbformat_minor": 5
}
