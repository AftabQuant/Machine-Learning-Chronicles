{
 "cells": [
  {
   "cell_type": "code",
   "execution_count": 1,
   "id": "bb4c7556-4186-47e5-8dd0-8a779de236ce",
   "metadata": {},
   "outputs": [],
   "source": [
    "import numpy as np\n",
    "import joblib"
   ]
  },
  {
   "cell_type": "code",
   "execution_count": 2,
   "id": "9c70b4e8-d344-497f-aa51-35e59b46ee4e",
   "metadata": {},
   "outputs": [],
   "source": [
    "model = joblib.load('model_ppp.pkl')"
   ]
  },
  {
   "cell_type": "code",
   "execution_count": 3,
   "id": "f0031259-3b68-488e-a187-5c70653c9adf",
   "metadata": {},
   "outputs": [],
   "source": [
    "inp = np.array([-122.23,\t37.88,\t41\t,880,\t129.0,\t322,\t126,\t8.3252]).reshape(1, 8)"
   ]
  },
  {
   "cell_type": "code",
   "execution_count": 4,
   "id": "7e2b5af8-669d-4ad2-b4f1-62f7cc218841",
   "metadata": {},
   "outputs": [
    {
     "name": "stderr",
     "output_type": "stream",
     "text": [
      "C:\\Program Files\\Python313\\Lib\\site-packages\\sklearn\\utils\\validation.py:2739: UserWarning: X does not have valid feature names, but SimpleImputer was fitted with feature names\n",
      "  warnings.warn(\n"
     ]
    },
    {
     "data": {
      "text/plain": [
       "array([411946.61039217])"
      ]
     },
     "execution_count": 4,
     "metadata": {},
     "output_type": "execute_result"
    }
   ],
   "source": [
    "model.predict(inp)"
   ]
  },
  {
   "cell_type": "code",
   "execution_count": null,
   "id": "9854657c-ebb7-4d76-94aa-30c208939cbb",
   "metadata": {},
   "outputs": [],
   "source": []
  }
 ],
 "metadata": {
  "kernelspec": {
   "display_name": "Python 3 (ipykernel)",
   "language": "python",
   "name": "python3"
  },
  "language_info": {
   "codemirror_mode": {
    "name": "ipython",
    "version": 3
   },
   "file_extension": ".py",
   "mimetype": "text/x-python",
   "name": "python",
   "nbconvert_exporter": "python",
   "pygments_lexer": "ipython3",
   "version": "3.13.3"
  },
  "widgets": {
   "application/vnd.jupyter.widget-state+json": {
    "state": {},
    "version_major": 2,
    "version_minor": 0
   }
  }
 },
 "nbformat": 4,
 "nbformat_minor": 5
}
