{
 "cells": [
  {
   "cell_type": "code",
   "execution_count": 5,
   "id": "de5f7393-241f-4f17-90fa-6a3e5f22cda8",
   "metadata": {},
   "outputs": [],
   "source": [
    "import numpy as np\n",
    "import pandas as pd\n",
    "import joblib\n",
    "import warnings\n",
    "\n",
    "warnings.filterwarnings('ignore')"
   ]
  },
  {
   "cell_type": "code",
   "execution_count": 6,
   "id": "c5860fce-b653-4e5d-9fe1-265e2a7d5fde",
   "metadata": {},
   "outputs": [],
   "source": [
    "model = joblib.load('model.pkl')"
   ]
  },
  {
   "cell_type": "code",
   "execution_count": 7,
   "id": "7146c1db-d629-4317-b974-a3d0cdbb02f2",
   "metadata": {},
   "outputs": [],
   "source": [
    "inputs = np.array(['Female', 0, 'Yes', 'No', 1\t,'No',\t'DSL',\t'No',\t'Yes',\t'No',\t'No', \t'No', \t\n",
    "                   'No', \t'Yes',\t'Electronic check',\t29.85\t,29.85], dtype = object).reshape(1, 17)"
   ]
  },
  {
   "cell_type": "code",
   "execution_count": 8,
   "id": "fb3736fa-1ffe-42a0-bc8e-99334d845d2b",
   "metadata": {},
   "outputs": [
    {
     "name": "stdout",
     "output_type": "stream",
     "text": [
      "[1]\n"
     ]
    }
   ],
   "source": [
    "print(model.predict(inputs))"
   ]
  },
  {
   "cell_type": "code",
   "execution_count": null,
   "id": "852a611d-2944-443f-8846-93d4fff56407",
   "metadata": {},
   "outputs": [],
   "source": []
  }
 ],
 "metadata": {
  "kernelspec": {
   "display_name": "Python 3 (ipykernel)",
   "language": "python",
   "name": "python3"
  },
  "language_info": {
   "codemirror_mode": {
    "name": "ipython",
    "version": 3
   },
   "file_extension": ".py",
   "mimetype": "text/x-python",
   "name": "python",
   "nbconvert_exporter": "python",
   "pygments_lexer": "ipython3",
   "version": "3.13.3"
  },
  "widgets": {
   "application/vnd.jupyter.widget-state+json": {
    "state": {},
    "version_major": 2,
    "version_minor": 0
   }
  }
 },
 "nbformat": 4,
 "nbformat_minor": 5
}
