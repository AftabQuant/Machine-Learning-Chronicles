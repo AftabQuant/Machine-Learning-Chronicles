{
 "cells": [
  {
   "cell_type": "code",
   "execution_count": 1,
   "id": "b2878442-face-4cad-8519-ac1f52f00f8b",
   "metadata": {},
   "outputs": [],
   "source": [
    "import numpy as np\n",
    "import pandas as pd\n",
    "import joblib"
   ]
  },
  {
   "cell_type": "code",
   "execution_count": 2,
   "id": "cc1e5d7b-ab38-496e-a3a0-41d48c162a06",
   "metadata": {},
   "outputs": [],
   "source": [
    "model = joblib.load('model.pkl')"
   ]
  },
  {
   "cell_type": "code",
   "execution_count": 3,
   "id": "aca209b1-ed02-4422-94ca-ad06276a1de5",
   "metadata": {},
   "outputs": [
    {
     "data": {
      "text/plain": [
       "array([1])"
      ]
     },
     "execution_count": 3,
     "metadata": {},
     "output_type": "execute_result"
    }
   ],
   "source": [
    "inp = np.array([51, 'Other', 'Basic', 14.73, 29, 'Africa', 'TV', 8.99, 'Gift Card', 1, 0.49, 'Action']).reshape(1, -1)\n",
    "columns = [\t'age',\t'gender',\t'subscription_type',\t'watch_hours',\t'last_login_days',\t\n",
    "           'region',\t'device',\t'monthly_fee',\t'payment_method',\t'number_of_profiles',\t'avg_watch_time_per_day'\t,'favorite_genre']\n",
    "\n",
    "inp_df = pd.DataFrame(inp, columns=columns)\n",
    "\n",
    "model.predict(inp_df)"
   ]
  }
 ],
 "metadata": {
  "kernelspec": {
   "display_name": "Python 3 (ipykernel)",
   "language": "python",
   "name": "python3"
  },
  "language_info": {
   "codemirror_mode": {
    "name": "ipython",
    "version": 3
   },
   "file_extension": ".py",
   "mimetype": "text/x-python",
   "name": "python",
   "nbconvert_exporter": "python",
   "pygments_lexer": "ipython3",
   "version": "3.13.3"
  },
  "widgets": {
   "application/vnd.jupyter.widget-state+json": {
    "state": {},
    "version_major": 2,
    "version_minor": 0
   }
  }
 },
 "nbformat": 4,
 "nbformat_minor": 5
}
