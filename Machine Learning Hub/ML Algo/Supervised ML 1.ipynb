{
 "cells": [
  {
   "cell_type": "code",
   "execution_count": null,
   "id": "34eafb57-3b02-4653-ad9b-3f9965c79f09",
   "metadata": {},
   "outputs": [],
   "source": []
  }
 ],
 "metadata": {
  "kernelspec": {
   "display_name": "",
   "name": ""
  },
  "language_info": {
   "name": ""
  }
 },
 "nbformat": 4,
 "nbformat_minor": 5
}
