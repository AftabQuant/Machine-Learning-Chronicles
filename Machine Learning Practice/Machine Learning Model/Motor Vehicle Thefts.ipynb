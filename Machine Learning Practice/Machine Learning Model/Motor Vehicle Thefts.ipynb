{
 "cells": [
  {
   "cell_type": "code",
   "execution_count": 1,
   "id": "1bc1009f-053a-48a4-90f8-b8fd314d2c62",
   "metadata": {},
   "outputs": [],
   "source": [
    "import numpy as np\n",
    "import pandas as pd\n",
    "import matplotlib.pyplot as plt\n",
    "import seaborn as sns\n",
    "import warnings\n",
    "warnings.filterwarnings('ignore')"
   ]
  },
  {
   "cell_type": "code",
   "execution_count": 2,
   "id": "733c314d-36be-4be2-bf2e-eb2873d97c96",
   "metadata": {},
   "outputs": [],
   "source": [
    "df = pd.read_csv(r\"D:\\Ultimate Programming\\Data Bases\\Machine Learning Datasets\\stolen_vehicles.csv\")"
   ]
  },
  {
   "cell_type": "code",
   "execution_count": 3,
   "id": "b23c0783-29b8-4085-8fbb-84a47cc7040f",
   "metadata": {},
   "outputs": [
    {
     "data": {
      "text/html": [
       "<div>\n",
       "<style scoped>\n",
       "    .dataframe tbody tr th:only-of-type {\n",
       "        vertical-align: middle;\n",
       "    }\n",
       "\n",
       "    .dataframe tbody tr th {\n",
       "        vertical-align: top;\n",
       "    }\n",
       "\n",
       "    .dataframe thead th {\n",
       "        text-align: right;\n",
       "    }\n",
       "</style>\n",
       "<table border=\"1\" class=\"dataframe\">\n",
       "  <thead>\n",
       "    <tr style=\"text-align: right;\">\n",
       "      <th></th>\n",
       "      <th>vehicle_id</th>\n",
       "      <th>vehicle_type</th>\n",
       "      <th>make_id</th>\n",
       "      <th>model_year</th>\n",
       "      <th>vehicle_desc</th>\n",
       "      <th>color</th>\n",
       "      <th>date_stolen</th>\n",
       "      <th>location_id</th>\n",
       "    </tr>\n",
       "  </thead>\n",
       "  <tbody>\n",
       "    <tr>\n",
       "      <th>0</th>\n",
       "      <td>1</td>\n",
       "      <td>Trailer</td>\n",
       "      <td>623.0</td>\n",
       "      <td>2021.0</td>\n",
       "      <td>BST2021D</td>\n",
       "      <td>Silver</td>\n",
       "      <td>11/5/21</td>\n",
       "      <td>102</td>\n",
       "    </tr>\n",
       "    <tr>\n",
       "      <th>1</th>\n",
       "      <td>2</td>\n",
       "      <td>Boat Trailer</td>\n",
       "      <td>623.0</td>\n",
       "      <td>2021.0</td>\n",
       "      <td>OUTBACK BOATS FT470</td>\n",
       "      <td>Silver</td>\n",
       "      <td>12/13/21</td>\n",
       "      <td>105</td>\n",
       "    </tr>\n",
       "    <tr>\n",
       "      <th>2</th>\n",
       "      <td>3</td>\n",
       "      <td>Boat Trailer</td>\n",
       "      <td>623.0</td>\n",
       "      <td>2021.0</td>\n",
       "      <td>ASD JETSKI</td>\n",
       "      <td>Silver</td>\n",
       "      <td>2/13/22</td>\n",
       "      <td>102</td>\n",
       "    </tr>\n",
       "  </tbody>\n",
       "</table>\n",
       "</div>"
      ],
      "text/plain": [
       "   vehicle_id  vehicle_type  make_id  model_year         vehicle_desc   color  \\\n",
       "0           1       Trailer    623.0      2021.0             BST2021D  Silver   \n",
       "1           2  Boat Trailer    623.0      2021.0  OUTBACK BOATS FT470  Silver   \n",
       "2           3  Boat Trailer    623.0      2021.0           ASD JETSKI  Silver   \n",
       "\n",
       "  date_stolen  location_id  \n",
       "0     11/5/21          102  \n",
       "1    12/13/21          105  \n",
       "2     2/13/22          102  "
      ]
     },
     "execution_count": 3,
     "metadata": {},
     "output_type": "execute_result"
    }
   ],
   "source": [
    "df.head(3)"
   ]
  }
 ],
 "metadata": {
  "kernelspec": {
   "display_name": "Python 3 (ipykernel)",
   "language": "python",
   "name": "python3"
  },
  "language_info": {
   "codemirror_mode": {
    "name": "ipython",
    "version": 3
   },
   "file_extension": ".py",
   "mimetype": "text/x-python",
   "name": "python",
   "nbconvert_exporter": "python",
   "pygments_lexer": "ipython3",
   "version": "3.13.0"
  },
  "widgets": {
   "application/vnd.jupyter.widget-state+json": {
    "state": {},
    "version_major": 2,
    "version_minor": 0
   }
  }
 },
 "nbformat": 4,
 "nbformat_minor": 5
}
