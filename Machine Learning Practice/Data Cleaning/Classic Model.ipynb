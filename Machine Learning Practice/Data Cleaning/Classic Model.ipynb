{
 "cells": [
  {
   "cell_type": "code",
   "execution_count": 1,
   "id": "e951a7dc-24a0-4e11-b524-ec8a08f1d513",
   "metadata": {},
   "outputs": [],
   "source": [
    "import numpy as np\n",
    "import pandas as pd\n",
    "import matplotlib.pyplot as plt\n",
    "import seaborn as sns\n",
    "import warnings\n",
    "\n",
    "warnings.filterwarnings('ignore')"
   ]
  },
  {
   "cell_type": "code",
   "execution_count": 7,
   "id": "706af383-0e81-4ab6-9ae1-c4d48394dc9d",
   "metadata": {},
   "outputs": [],
   "source": [
    "df = pd.read_csv(r\"D:\\Ultimate Programming\\Data Bases\\Machine Learning Datasets\\order_history_kaggle_data.csv\")"
   ]
  },
  {
   "cell_type": "code",
   "execution_count": 8,
   "id": "afbc5103-57e8-4f37-94f2-a851e1aaedef",
   "metadata": {},
   "outputs": [
    {
     "data": {
      "text/html": [
       "<div>\n",
       "<style scoped>\n",
       "    .dataframe tbody tr th:only-of-type {\n",
       "        vertical-align: middle;\n",
       "    }\n",
       "\n",
       "    .dataframe tbody tr th {\n",
       "        vertical-align: top;\n",
       "    }\n",
       "\n",
       "    .dataframe thead th {\n",
       "        text-align: right;\n",
       "    }\n",
       "</style>\n",
       "<table border=\"1\" class=\"dataframe\">\n",
       "  <thead>\n",
       "    <tr style=\"text-align: right;\">\n",
       "      <th></th>\n",
       "      <th>Restaurant ID</th>\n",
       "      <th>Restaurant name</th>\n",
       "      <th>Subzone</th>\n",
       "      <th>City</th>\n",
       "      <th>Order ID</th>\n",
       "      <th>Order Placed At</th>\n",
       "      <th>Order Status</th>\n",
       "      <th>Delivery</th>\n",
       "      <th>Distance</th>\n",
       "      <th>Items in order</th>\n",
       "      <th>...</th>\n",
       "      <th>Rating</th>\n",
       "      <th>Review</th>\n",
       "      <th>Cancellation / Rejection reason</th>\n",
       "      <th>Restaurant compensation (Cancellation)</th>\n",
       "      <th>Restaurant penalty (Rejection)</th>\n",
       "      <th>KPT duration (minutes)</th>\n",
       "      <th>Rider wait time (minutes)</th>\n",
       "      <th>Order Ready Marked</th>\n",
       "      <th>Customer complaint tag</th>\n",
       "      <th>Customer ID</th>\n",
       "    </tr>\n",
       "  </thead>\n",
       "  <tbody>\n",
       "    <tr>\n",
       "      <th>0</th>\n",
       "      <td>20320607</td>\n",
       "      <td>Swaad</td>\n",
       "      <td>Sector 4</td>\n",
       "      <td>Delhi NCR</td>\n",
       "      <td>6168884918</td>\n",
       "      <td>11:38 PM, September 10 2024</td>\n",
       "      <td>Delivered</td>\n",
       "      <td>Zomato Delivery</td>\n",
       "      <td>3km</td>\n",
       "      <td>1 x Grilled Chicken Jamaican Tender, 1 x Grill...</td>\n",
       "      <td>...</td>\n",
       "      <td>NaN</td>\n",
       "      <td>NaN</td>\n",
       "      <td>NaN</td>\n",
       "      <td>NaN</td>\n",
       "      <td>NaN</td>\n",
       "      <td>18.35</td>\n",
       "      <td>11.6</td>\n",
       "      <td>Correctly</td>\n",
       "      <td>NaN</td>\n",
       "      <td>5d6c2b96db963098bc69768bea504c8bf46106a8a5178e...</td>\n",
       "    </tr>\n",
       "    <tr>\n",
       "      <th>1</th>\n",
       "      <td>20320607</td>\n",
       "      <td>Swaad</td>\n",
       "      <td>Sector 4</td>\n",
       "      <td>Delhi NCR</td>\n",
       "      <td>6170707559</td>\n",
       "      <td>11:34 PM, September 10 2024</td>\n",
       "      <td>Delivered</td>\n",
       "      <td>Zomato Delivery</td>\n",
       "      <td>2km</td>\n",
       "      <td>1 x Peri Peri Fries, 1 x Fried Chicken Angara ...</td>\n",
       "      <td>...</td>\n",
       "      <td>NaN</td>\n",
       "      <td>NaN</td>\n",
       "      <td>NaN</td>\n",
       "      <td>NaN</td>\n",
       "      <td>NaN</td>\n",
       "      <td>16.95</td>\n",
       "      <td>3.6</td>\n",
       "      <td>Correctly</td>\n",
       "      <td>NaN</td>\n",
       "      <td>0781815deb4a10a574e9fee4fa0b86b074d4a0b36175d5...</td>\n",
       "    </tr>\n",
       "    <tr>\n",
       "      <th>2</th>\n",
       "      <td>20320607</td>\n",
       "      <td>Swaad</td>\n",
       "      <td>Sector 4</td>\n",
       "      <td>Delhi NCR</td>\n",
       "      <td>6169375019</td>\n",
       "      <td>03:52 PM, September 10 2024</td>\n",
       "      <td>Delivered</td>\n",
       "      <td>Zomato Delivery</td>\n",
       "      <td>&lt;1km</td>\n",
       "      <td>1 x Bone in Peri Peri Grilled Chicken</td>\n",
       "      <td>...</td>\n",
       "      <td>NaN</td>\n",
       "      <td>NaN</td>\n",
       "      <td>NaN</td>\n",
       "      <td>NaN</td>\n",
       "      <td>NaN</td>\n",
       "      <td>14.05</td>\n",
       "      <td>12.2</td>\n",
       "      <td>Correctly</td>\n",
       "      <td>NaN</td>\n",
       "      <td>f93362f5ce5382657482d164e368186bcec9c6225fd93d...</td>\n",
       "    </tr>\n",
       "    <tr>\n",
       "      <th>3</th>\n",
       "      <td>20320607</td>\n",
       "      <td>Swaad</td>\n",
       "      <td>Sector 4</td>\n",
       "      <td>Delhi NCR</td>\n",
       "      <td>6151677434</td>\n",
       "      <td>03:45 PM, September 10 2024</td>\n",
       "      <td>Delivered</td>\n",
       "      <td>Zomato Delivery</td>\n",
       "      <td>2km</td>\n",
       "      <td>1 x Fried Chicken Ghostbuster Tender, 1 x Anga...</td>\n",
       "      <td>...</td>\n",
       "      <td>4.0</td>\n",
       "      <td>NaN</td>\n",
       "      <td>NaN</td>\n",
       "      <td>NaN</td>\n",
       "      <td>NaN</td>\n",
       "      <td>19.00</td>\n",
       "      <td>3.3</td>\n",
       "      <td>Correctly</td>\n",
       "      <td>NaN</td>\n",
       "      <td>1ed226d1b8a5f7acee12fc1d6676558330a3b2b742af5d...</td>\n",
       "    </tr>\n",
       "    <tr>\n",
       "      <th>4</th>\n",
       "      <td>20320607</td>\n",
       "      <td>Swaad</td>\n",
       "      <td>Sector 4</td>\n",
       "      <td>Delhi NCR</td>\n",
       "      <td>6167540897</td>\n",
       "      <td>03:04 PM, September 10 2024</td>\n",
       "      <td>Delivered</td>\n",
       "      <td>Zomato Delivery</td>\n",
       "      <td>2km</td>\n",
       "      <td>1 x Peri Peri Krispers, 1 x Fried Chicken Anga...</td>\n",
       "      <td>...</td>\n",
       "      <td>NaN</td>\n",
       "      <td>NaN</td>\n",
       "      <td>NaN</td>\n",
       "      <td>NaN</td>\n",
       "      <td>NaN</td>\n",
       "      <td>15.97</td>\n",
       "      <td>1.0</td>\n",
       "      <td>Correctly</td>\n",
       "      <td>NaN</td>\n",
       "      <td>d21a2ac6ea06b31cc3288ab20c4ef2f292066c096f2c5f...</td>\n",
       "    </tr>\n",
       "  </tbody>\n",
       "</table>\n",
       "<p>5 rows × 29 columns</p>\n",
       "</div>"
      ],
      "text/plain": [
       "   Restaurant ID Restaurant name   Subzone       City    Order ID  \\\n",
       "0       20320607           Swaad  Sector 4  Delhi NCR  6168884918   \n",
       "1       20320607           Swaad  Sector 4  Delhi NCR  6170707559   \n",
       "2       20320607           Swaad  Sector 4  Delhi NCR  6169375019   \n",
       "3       20320607           Swaad  Sector 4  Delhi NCR  6151677434   \n",
       "4       20320607           Swaad  Sector 4  Delhi NCR  6167540897   \n",
       "\n",
       "               Order Placed At Order Status         Delivery Distance  \\\n",
       "0  11:38 PM, September 10 2024    Delivered  Zomato Delivery      3km   \n",
       "1  11:34 PM, September 10 2024    Delivered  Zomato Delivery      2km   \n",
       "2  03:52 PM, September 10 2024    Delivered  Zomato Delivery     <1km   \n",
       "3  03:45 PM, September 10 2024    Delivered  Zomato Delivery      2km   \n",
       "4  03:04 PM, September 10 2024    Delivered  Zomato Delivery      2km   \n",
       "\n",
       "                                      Items in order  ... Rating Review  \\\n",
       "0  1 x Grilled Chicken Jamaican Tender, 1 x Grill...  ...    NaN    NaN   \n",
       "1  1 x Peri Peri Fries, 1 x Fried Chicken Angara ...  ...    NaN    NaN   \n",
       "2              1 x Bone in Peri Peri Grilled Chicken  ...    NaN    NaN   \n",
       "3  1 x Fried Chicken Ghostbuster Tender, 1 x Anga...  ...    4.0    NaN   \n",
       "4  1 x Peri Peri Krispers, 1 x Fried Chicken Anga...  ...    NaN    NaN   \n",
       "\n",
       "   Cancellation / Rejection reason  Restaurant compensation (Cancellation)  \\\n",
       "0                              NaN                                     NaN   \n",
       "1                              NaN                                     NaN   \n",
       "2                              NaN                                     NaN   \n",
       "3                              NaN                                     NaN   \n",
       "4                              NaN                                     NaN   \n",
       "\n",
       "   Restaurant penalty (Rejection)  KPT duration (minutes)  \\\n",
       "0                             NaN                   18.35   \n",
       "1                             NaN                   16.95   \n",
       "2                             NaN                   14.05   \n",
       "3                             NaN                   19.00   \n",
       "4                             NaN                   15.97   \n",
       "\n",
       "   Rider wait time (minutes)  Order Ready Marked  Customer complaint tag  \\\n",
       "0                       11.6           Correctly                     NaN   \n",
       "1                        3.6           Correctly                     NaN   \n",
       "2                       12.2           Correctly                     NaN   \n",
       "3                        3.3           Correctly                     NaN   \n",
       "4                        1.0           Correctly                     NaN   \n",
       "\n",
       "                                         Customer ID  \n",
       "0  5d6c2b96db963098bc69768bea504c8bf46106a8a5178e...  \n",
       "1  0781815deb4a10a574e9fee4fa0b86b074d4a0b36175d5...  \n",
       "2  f93362f5ce5382657482d164e368186bcec9c6225fd93d...  \n",
       "3  1ed226d1b8a5f7acee12fc1d6676558330a3b2b742af5d...  \n",
       "4  d21a2ac6ea06b31cc3288ab20c4ef2f292066c096f2c5f...  \n",
       "\n",
       "[5 rows x 29 columns]"
      ]
     },
     "execution_count": 8,
     "metadata": {},
     "output_type": "execute_result"
    }
   ],
   "source": [
    "df.head(5)"
   ]
  },
  {
   "cell_type": "code",
   "execution_count": 9,
   "id": "42d306f6-e9d4-454b-a9bb-92b1d9cff4ed",
   "metadata": {},
   "outputs": [
    {
     "data": {
      "text/plain": [
       "(21321, 29)"
      ]
     },
     "execution_count": 9,
     "metadata": {},
     "output_type": "execute_result"
    }
   ],
   "source": [
    "df.shape"
   ]
  },
  {
   "cell_type": "code",
   "execution_count": 10,
   "id": "e6de8f57-d0bf-4d42-b5fe-4b90bf79d070",
   "metadata": {},
   "outputs": [
    {
     "data": {
      "text/plain": [
       "np.int64(150910)"
      ]
     },
     "execution_count": 10,
     "metadata": {},
     "output_type": "execute_result"
    }
   ],
   "source": [
    "df.isnull().sum().sum()"
   ]
  },
  {
   "cell_type": "code",
   "execution_count": 11,
   "id": "c6fb5514-17a2-453f-8753-d9096e93a0ae",
   "metadata": {},
   "outputs": [
    {
     "data": {
      "text/plain": [
       "Restaurant ID                                             0\n",
       "Restaurant name                                           0\n",
       "Subzone                                                   0\n",
       "City                                                      0\n",
       "Order ID                                                  0\n",
       "Order Placed At                                           0\n",
       "Order Status                                              0\n",
       "Delivery                                                  0\n",
       "Distance                                                  0\n",
       "Items in order                                            0\n",
       "Instructions                                          20601\n",
       "Discount construct                                     5498\n",
       "Bill subtotal                                             0\n",
       "Packaging charges                                         0\n",
       "Restaurant discount (Promo)                               0\n",
       "Restaurant discount (Flat offs, Freebies & others)        0\n",
       "Gold discount                                             0\n",
       "Brand pack discount                                       0\n",
       "Total                                                     0\n",
       "Rating                                                18830\n",
       "Review                                                21025\n",
       "Cancellation / Rejection reason                       21135\n",
       "Restaurant compensation (Cancellation)                21188\n",
       "Restaurant penalty (Rejection)                        21318\n",
       "KPT duration (minutes)                                  295\n",
       "Rider wait time (minutes)                               168\n",
       "Order Ready Marked                                        0\n",
       "Customer complaint tag                                20852\n",
       "Customer ID                                               0\n",
       "dtype: int64"
      ]
     },
     "execution_count": 11,
     "metadata": {},
     "output_type": "execute_result"
    }
   ],
   "source": [
    "df.isnull().sum()"
   ]
  },
  {
   "cell_type": "code",
   "execution_count": 12,
   "id": "242dc4fc-45f2-42f1-8800-bfd5f5de39bf",
   "metadata": {},
   "outputs": [
    {
     "data": {
      "text/plain": [
       "Restaurant ID                                          0.000000\n",
       "Restaurant name                                        0.000000\n",
       "Subzone                                                0.000000\n",
       "City                                                   0.000000\n",
       "Order ID                                               0.000000\n",
       "Order Placed At                                        0.000000\n",
       "Order Status                                           0.000000\n",
       "Delivery                                               0.000000\n",
       "Distance                                               0.000000\n",
       "Items in order                                         0.000000\n",
       "Instructions                                          96.623048\n",
       "Discount construct                                    25.786783\n",
       "Bill subtotal                                          0.000000\n",
       "Packaging charges                                      0.000000\n",
       "Restaurant discount (Promo)                            0.000000\n",
       "Restaurant discount (Flat offs, Freebies & others)     0.000000\n",
       "Gold discount                                          0.000000\n",
       "Brand pack discount                                    0.000000\n",
       "Total                                                  0.000000\n",
       "Rating                                                88.316683\n",
       "Review                                                98.611697\n",
       "Cancellation / Rejection reason                       99.127621\n",
       "Restaurant compensation (Cancellation)                99.376202\n",
       "Restaurant penalty (Rejection)                        99.985929\n",
       "KPT duration (minutes)                                 1.383612\n",
       "Rider wait time (minutes)                              0.787956\n",
       "Order Ready Marked                                     0.000000\n",
       "Customer complaint tag                                97.800291\n",
       "Customer ID                                            0.000000\n",
       "dtype: float64"
      ]
     },
     "execution_count": 12,
     "metadata": {},
     "output_type": "execute_result"
    }
   ],
   "source": [
    "# Percentage Calculation\n",
    "\n",
    "(df.isnull().sum()/df.shape[0])*100"
   ]
  },
  {
   "cell_type": "code",
   "execution_count": 13,
   "id": "a8f7bee4-0708-4d44-8a08-4c75ae2665bb",
   "metadata": {},
   "outputs": [
    {
     "data": {
      "text/plain": [
       "np.float64(24.406890405929722)"
      ]
     },
     "execution_count": 13,
     "metadata": {},
     "output_type": "execute_result"
    }
   ],
   "source": [
    "# whole null values percentages\n",
    "\n",
    "(df.isnull().sum().sum()/(df.shape[0] * df.shape[1]))*100"
   ]
  },
  {
   "cell_type": "code",
   "execution_count": 14,
   "id": "1e0549d8-11f7-434c-be72-538613f494b4",
   "metadata": {},
   "outputs": [
    {
     "data": {
      "image/png": "[encoded data removed]",
      "text/plain": [
       "<Figure size 640x480 with 2 Axes>"
      ]
     },
     "metadata": {},
     "output_type": "display_data"
    }
   ],
   "source": [
    "# Graph of null values\n",
    "\n",
    "sns.heatmap(df.isnull())\n",
    "plt.show()"
   ]
  },
  {
   "cell_type": "markdown",
   "id": "4986c4e7-f685-4638-b7e9-ace4150f71b3",
   "metadata": {},
   "source": [
    "# Handling Missing Values"
   ]
  },
  {
   "cell_type": "code",
   "execution_count": 15,
   "id": "25e4e408-e209-4b51-ab5f-ab7bfbe44d75",
   "metadata": {},
   "outputs": [
    {
     "data": {
      "text/plain": [
       "Restaurant ID                                          0.000000\n",
       "Restaurant name                                        0.000000\n",
       "Subzone                                                0.000000\n",
       "City                                                   0.000000\n",
       "Order ID                                               0.000000\n",
       "Order Placed At                                        0.000000\n",
       "Order Status                                           0.000000\n",
       "Delivery                                               0.000000\n",
       "Distance                                               0.000000\n",
       "Items in order                                         0.000000\n",
       "Instructions                                          96.623048\n",
       "Discount construct                                    25.786783\n",
       "Bill subtotal                                          0.000000\n",
       "Packaging charges                                      0.000000\n",
       "Restaurant discount (Promo)                            0.000000\n",
       "Restaurant discount (Flat offs, Freebies & others)     0.000000\n",
       "Gold discount                                          0.000000\n",
       "Brand pack discount                                    0.000000\n",
       "Total                                                  0.000000\n",
       "Rating                                                88.316683\n",
       "Review                                                98.611697\n",
       "Cancellation / Rejection reason                       99.127621\n",
       "Restaurant compensation (Cancellation)                99.376202\n",
       "Restaurant penalty (Rejection)                        99.985929\n",
       "KPT duration (minutes)                                 1.383612\n",
       "Rider wait time (minutes)                              0.787956\n",
       "Order Ready Marked                                     0.000000\n",
       "Customer complaint tag                                97.800291\n",
       "Customer ID                                            0.000000\n",
       "dtype: float64"
      ]
     },
     "execution_count": 15,
     "metadata": {},
     "output_type": "execute_result"
    }
   ],
   "source": [
    "(df.isnull().sum()/df.shape[0])*100"
   ]
  },
  {
   "cell_type": "code",
   "execution_count": 16,
   "id": "d884766e-afef-4872-a192-b94aee90f231",
   "metadata": {},
   "outputs": [],
   "source": [
    "df.drop(columns=['Customer complaint tag'], inplace=True)"
   ]
  },
  {
   "cell_type": "code",
   "execution_count": 17,
   "id": "ce5cff40-9841-4ae1-9ef9-9503a1bbbed9",
   "metadata": {},
   "outputs": [],
   "source": [
    "df.drop(columns=[\"Restaurant penalty (Rejection)\", \"Restaurant compensation (Cancellation)\", \"Cancellation / Rejection reason\", \"Review\", \"Rating\", \"Instructions\"], inplace=True)"
   ]
  },
  {
   "cell_type": "code",
   "execution_count": 18,
   "id": "4d0b3c61-35fc-448f-b310-1410ea440b07",
   "metadata": {},
   "outputs": [
    {
     "data": {
      "text/plain": [
       "Restaurant ID                                          0.000000\n",
       "Restaurant name                                        0.000000\n",
       "Subzone                                                0.000000\n",
       "City                                                   0.000000\n",
       "Order ID                                               0.000000\n",
       "Order Placed At                                        0.000000\n",
       "Order Status                                           0.000000\n",
       "Delivery                                               0.000000\n",
       "Distance                                               0.000000\n",
       "Items in order                                         0.000000\n",
       "Discount construct                                    25.786783\n",
       "Bill subtotal                                          0.000000\n",
       "Packaging charges                                      0.000000\n",
       "Restaurant discount (Promo)                            0.000000\n",
       "Restaurant discount (Flat offs, Freebies & others)     0.000000\n",
       "Gold discount                                          0.000000\n",
       "Brand pack discount                                    0.000000\n",
       "Total                                                  0.000000\n",
       "KPT duration (minutes)                                 1.383612\n",
       "Rider wait time (minutes)                              0.787956\n",
       "Order Ready Marked                                     0.000000\n",
       "Customer ID                                            0.000000\n",
       "dtype: float64"
      ]
     },
     "execution_count": 18,
     "metadata": {},
     "output_type": "execute_result"
    }
   ],
   "source": [
    "(df.isnull().sum()/df.shape[0])*100"
   ]
  },
  {
   "cell_type": "code",
   "execution_count": 19,
   "id": "31da232a-b502-488b-9f9f-c3e490273575",
   "metadata": {},
   "outputs": [
    {
     "data": {
      "text/plain": [
       "np.float64(1.2708341328012076)"
      ]
     },
     "execution_count": 19,
     "metadata": {},
     "output_type": "execute_result"
    }
   ],
   "source": [
    "(df.isnull().sum().sum()/(df.shape[0] * df.shape[1]))*100"
   ]
  },
  {
   "cell_type": "code",
   "execution_count": 20,
   "id": "d10e11d3-4e4a-46ce-bc90-ae692046a7c4",
   "metadata": {},
   "outputs": [
    {
     "data": {
      "text/plain": [
       "(21321, 22)"
      ]
     },
     "execution_count": 20,
     "metadata": {},
     "output_type": "execute_result"
    }
   ],
   "source": [
    "df.shape"
   ]
  },
  {
   "cell_type": "code",
   "execution_count": 21,
   "id": "7276e5a9-04a0-41a7-ba34-50972ad77af3",
   "metadata": {},
   "outputs": [
    {
     "name": "stdout",
     "output_type": "stream",
     "text": [
      "<class 'pandas.core.frame.DataFrame'>\n",
      "RangeIndex: 21321 entries, 0 to 21320\n",
      "Data columns (total 22 columns):\n",
      " #   Column                                              Non-Null Count  Dtype  \n",
      "---  ------                                              --------------  -----  \n",
      " 0   Restaurant ID                                       21321 non-null  int64  \n",
      " 1   Restaurant name                                     21321 non-null  object \n",
      " 2   Subzone                                             21321 non-null  object \n",
      " 3   City                                                21321 non-null  object \n",
      " 4   Order ID                                            21321 non-null  int64  \n",
      " 5   Order Placed At                                     21321 non-null  object \n",
      " 6   Order Status                                        21321 non-null  object \n",
      " 7   Delivery                                            21321 non-null  object \n",
      " 8   Distance                                            21321 non-null  object \n",
      " 9   Items in order                                      21321 non-null  object \n",
      " 10  Discount construct                                  15823 non-null  object \n",
      " 11  Bill subtotal                                       21321 non-null  float64\n",
      " 12  Packaging charges                                   21321 non-null  float64\n",
      " 13  Restaurant discount (Promo)                         21321 non-null  float64\n",
      " 14  Restaurant discount (Flat offs, Freebies & others)  21321 non-null  float64\n",
      " 15  Gold discount                                       21321 non-null  float64\n",
      " 16  Brand pack discount                                 21321 non-null  float64\n",
      " 17  Total                                               21321 non-null  float64\n",
      " 18  KPT duration (minutes)                              21026 non-null  float64\n",
      " 19  Rider wait time (minutes)                           21153 non-null  float64\n",
      " 20  Order Ready Marked                                  21321 non-null  object \n",
      " 21  Customer ID                                         21321 non-null  object \n",
      "dtypes: float64(9), int64(2), object(11)\n",
      "memory usage: 3.6+ MB\n"
     ]
    }
   ],
   "source": [
    "df.info()"
   ]
  },
  {
   "cell_type": "code",
   "execution_count": 23,
   "id": "73675691-6850-4bbf-bf2d-6653b439c556",
   "metadata": {},
   "outputs": [
    {
     "data": {
      "text/plain": [
       "'50% off upto Rs.100'"
      ]
     },
     "execution_count": 23,
     "metadata": {},
     "output_type": "execute_result"
    }
   ],
   "source": [
    "df['Discount construct'].mode()[0]"
   ]
  },
  {
   "cell_type": "code",
   "execution_count": 24,
   "id": "ffeadb6c-cf29-43b9-990f-506cb9991f46",
   "metadata": {},
   "outputs": [],
   "source": [
    "df['Discount construct'].fillna(df['Discount construct'].mode()[0], inplace=True)"
   ]
  },
  {
   "cell_type": "code",
   "execution_count": 25,
   "id": "24336e79-95c6-4ba1-88de-a62dc38204fb",
   "metadata": {},
   "outputs": [
    {
     "data": {
      "text/plain": [
       "np.float64(0.09870763353245413)"
      ]
     },
     "execution_count": 25,
     "metadata": {},
     "output_type": "execute_result"
    }
   ],
   "source": [
    "(df.isnull().sum().sum()/(df.shape[0] * df.shape[1]))*100"
   ]
  },
  {
   "cell_type": "code",
   "execution_count": 27,
   "id": "c8ebbbcc-47a8-435b-a7c1-6410bfd4720c",
   "metadata": {},
   "outputs": [],
   "source": [
    "for col in df.select_dtypes(include=\"float64\").columns:\n",
    "    df[col] = df[col].fillna(df[col].median())"
   ]
  },
  {
   "cell_type": "code",
   "execution_count": 28,
   "id": "859471f0-42b0-418f-97d0-c7fda12b6215",
   "metadata": {},
   "outputs": [
    {
     "data": {
      "text/plain": [
       "np.float64(0.0)"
      ]
     },
     "execution_count": 28,
     "metadata": {},
     "output_type": "execute_result"
    }
   ],
   "source": [
    "(df.isnull().sum().sum()/(df.shape[0] * df.shape[1]))*100"
   ]
  },
  {
   "cell_type": "code",
   "execution_count": null,
   "id": "74b757cd-79f3-4e37-918b-56073e68d526",
   "metadata": {},
   "outputs": [],
   "source": []
  }
 ],
 "metadata": {
  "kernelspec": {
   "display_name": "Python 3 (ipykernel)",
   "language": "python",
   "name": "python3"
  },
  "language_info": {
   "codemirror_mode": {
    "name": "ipython",
    "version": 3
   },
   "file_extension": ".py",
   "mimetype": "text/x-python",
   "name": "python",
   "nbconvert_exporter": "python",
   "pygments_lexer": "ipython3",
   "version": "3.13.0"
  },
  "widgets": {
   "application/vnd.jupyter.widget-state+json": {
    "state": {},
    "version_major": 2,
    "version_minor": 0
   }
  }
 },
 "nbformat": 4,
 "nbformat_minor": 5
}
