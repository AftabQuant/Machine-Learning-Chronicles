{
 "cells": [
  {
   "cell_type": "code",
   "execution_count": 4,
   "id": "2742816b-f5df-4927-88ba-748dcbf78ffd",
   "metadata": {},
   "outputs": [],
   "source": [
    "import numpy as np\n",
    "import pandas as pd\n",
    "import matplotlib.pyplot as plt\n",
    "import seaborn as sns\n",
    "import warnings"
   ]
  },
  {
   "cell_type": "code",
   "execution_count": 5,
   "id": "ae3c80d8-9e15-43c3-b923-5571a29e8ad9",
   "metadata": {},
   "outputs": [],
   "source": [
    "df = pd.read_csv(r\"D:\\Ultimate Programming\\Data Bases\\Machine Learning Datasets\\stroke_data.csv\")"
   ]
  },
  {
   "cell_type": "code",
   "execution_count": 6,
   "id": "f71d84df-8cc7-4010-be70-10b1774a0f7b",
   "metadata": {},
   "outputs": [
    {
     "data": {
      "text/html": [
       "<div>\n",
       "<style scoped>\n",
       "    .dataframe tbody tr th:only-of-type {\n",
       "        vertical-align: middle;\n",
       "    }\n",
       "\n",
       "    .dataframe tbody tr th {\n",
       "        vertical-align: top;\n",
       "    }\n",
       "\n",
       "    .dataframe thead th {\n",
       "        text-align: right;\n",
       "    }\n",
       "</style>\n",
       "<table border=\"1\" class=\"dataframe\">\n",
       "  <thead>\n",
       "    <tr style=\"text-align: right;\">\n",
       "      <th></th>\n",
       "      <th>Age</th>\n",
       "      <th>Gender</th>\n",
       "      <th>SES</th>\n",
       "      <th>Hypertension</th>\n",
       "      <th>Heart_Disease</th>\n",
       "      <th>BMI</th>\n",
       "      <th>Avg_Glucose</th>\n",
       "      <th>Diabetes</th>\n",
       "      <th>Smoking_Status</th>\n",
       "      <th>Stroke</th>\n",
       "    </tr>\n",
       "  </thead>\n",
       "  <tbody>\n",
       "    <tr>\n",
       "      <th>0</th>\n",
       "      <td>66.788137</td>\n",
       "      <td>Male</td>\n",
       "      <td>Medium</td>\n",
       "      <td>1</td>\n",
       "      <td>0</td>\n",
       "      <td>25.842521</td>\n",
       "      <td>96.428681</td>\n",
       "      <td>1</td>\n",
       "      <td>Current</td>\n",
       "      <td>1</td>\n",
       "    </tr>\n",
       "    <tr>\n",
       "      <th>1</th>\n",
       "      <td>86.393609</td>\n",
       "      <td>Female</td>\n",
       "      <td>Medium</td>\n",
       "      <td>1</td>\n",
       "      <td>1</td>\n",
       "      <td>32.531061</td>\n",
       "      <td>133.350068</td>\n",
       "      <td>0</td>\n",
       "      <td>Never</td>\n",
       "      <td>1</td>\n",
       "    </tr>\n",
       "    <tr>\n",
       "      <th>2</th>\n",
       "      <td>76.158579</td>\n",
       "      <td>Female</td>\n",
       "      <td>Medium</td>\n",
       "      <td>1</td>\n",
       "      <td>0</td>\n",
       "      <td>40.681244</td>\n",
       "      <td>111.489589</td>\n",
       "      <td>0</td>\n",
       "      <td>Never</td>\n",
       "      <td>0</td>\n",
       "    </tr>\n",
       "    <tr>\n",
       "      <th>3</th>\n",
       "      <td>72.477870</td>\n",
       "      <td>Female</td>\n",
       "      <td>Low</td>\n",
       "      <td>0</td>\n",
       "      <td>1</td>\n",
       "      <td>33.003193</td>\n",
       "      <td>125.692465</td>\n",
       "      <td>0</td>\n",
       "      <td>Former</td>\n",
       "      <td>0</td>\n",
       "    </tr>\n",
       "    <tr>\n",
       "      <th>4</th>\n",
       "      <td>59.881635</td>\n",
       "      <td>Male</td>\n",
       "      <td>Low</td>\n",
       "      <td>0</td>\n",
       "      <td>0</td>\n",
       "      <td>26.062443</td>\n",
       "      <td>123.218486</td>\n",
       "      <td>1</td>\n",
       "      <td>Never</td>\n",
       "      <td>1</td>\n",
       "    </tr>\n",
       "  </tbody>\n",
       "</table>\n",
       "</div>"
      ],
      "text/plain": [
       "         Age  Gender     SES  Hypertension  Heart_Disease        BMI  \\\n",
       "0  66.788137    Male  Medium             1              0  25.842521   \n",
       "1  86.393609  Female  Medium             1              1  32.531061   \n",
       "2  76.158579  Female  Medium             1              0  40.681244   \n",
       "3  72.477870  Female     Low             0              1  33.003193   \n",
       "4  59.881635    Male     Low             0              0  26.062443   \n",
       "\n",
       "   Avg_Glucose  Diabetes Smoking_Status  Stroke  \n",
       "0    96.428681         1        Current       1  \n",
       "1   133.350068         0          Never       1  \n",
       "2   111.489589         0          Never       0  \n",
       "3   125.692465         0         Former       0  \n",
       "4   123.218486         1          Never       1  "
      ]
     },
     "execution_count": 6,
     "metadata": {},
     "output_type": "execute_result"
    }
   ],
   "source": [
    "df.head()"
   ]
  },
  {
   "cell_type": "code",
   "execution_count": 9,
   "id": "8e23e546-7ce1-4309-a289-d1ad939f31dc",
   "metadata": {},
   "outputs": [
    {
     "data": {
      "text/plain": [
       "Age               0\n",
       "Gender            0\n",
       "SES               0\n",
       "Hypertension      0\n",
       "Heart_Disease     0\n",
       "BMI               0\n",
       "Avg_Glucose       0\n",
       "Diabetes          0\n",
       "Smoking_Status    0\n",
       "Stroke            0\n",
       "dtype: int64"
      ]
     },
     "execution_count": 9,
     "metadata": {},
     "output_type": "execute_result"
    }
   ],
   "source": [
    "df.isnull().sum()"
   ]
  },
  {
   "cell_type": "code",
   "execution_count": null,
   "id": "1946c3ba-4cc8-4d61-83f4-cb5a98cd141c",
   "metadata": {},
   "outputs": [],
   "source": []
  }
 ],
 "metadata": {
  "kernelspec": {
   "display_name": "Python 3 (ipykernel)",
   "language": "python",
   "name": "python3"
  },
  "language_info": {
   "codemirror_mode": {
    "name": "ipython",
    "version": 3
   },
   "file_extension": ".py",
   "mimetype": "text/x-python",
   "name": "python",
   "nbconvert_exporter": "python",
   "pygments_lexer": "ipython3",
   "version": "3.13.0"
  },
  "widgets": {
   "application/vnd.jupyter.widget-state+json": {
    "state": {},
    "version_major": 2,
    "version_minor": 0
   }
  }
 },
 "nbformat": 4,
 "nbformat_minor": 5
}
