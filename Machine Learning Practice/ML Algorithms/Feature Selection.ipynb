{
 "cells": [
  {
   "cell_type": "code",
   "execution_count": 1,
   "id": "449563a6-e9cd-4fed-88e9-f2196a852b25",
   "metadata": {},
   "outputs": [],
   "source": [
    "import numpy as np\n",
    "import pandas as pd\n",
    "import matplotlib.pyplot as plt\n",
    "import seaborn as sns\n",
    "\n",
    "import warnings\n",
    "warnings.filterwarnings('ignore')"
   ]
  },
  {
   "cell_type": "code",
   "execution_count": 2,
   "id": "6d4d4b1e-b788-4c60-aa3c-05ffc4557386",
   "metadata": {},
   "outputs": [],
   "source": [
    "df = pd.read_excel(r\"D:\\Ultimate Programming\\Data Bases\\Machine Learning Datasets\\Early Disease Detection.xlsx\")"
   ]
  },
  {
   "cell_type": "code",
   "execution_count": 3,
   "id": "8b3c8ea7-c3fa-4b53-8962-7d3993c3aa2b",
   "metadata": {},
   "outputs": [
    {
     "data": {
      "text/html": [
       "<div>\n",
       "<style scoped>\n",
       "    .dataframe tbody tr th:only-of-type {\n",
       "        vertical-align: middle;\n",
       "    }\n",
       "\n",
       "    .dataframe tbody tr th {\n",
       "        vertical-align: top;\n",
       "    }\n",
       "\n",
       "    .dataframe thead th {\n",
       "        text-align: right;\n",
       "    }\n",
       "</style>\n",
       "<table border=\"1\" class=\"dataframe\">\n",
       "  <thead>\n",
       "    <tr style=\"text-align: right;\">\n",
       "      <th></th>\n",
       "      <th>date</th>\n",
       "      <th>country</th>\n",
       "      <th>id</th>\n",
       "      <th>active</th>\n",
       "      <th>age</th>\n",
       "      <th>alco</th>\n",
       "      <th>ap_hi</th>\n",
       "      <th>ap_lo</th>\n",
       "      <th>cholesterol</th>\n",
       "      <th>gender</th>\n",
       "      <th>gluc</th>\n",
       "      <th>height</th>\n",
       "      <th>occupation</th>\n",
       "      <th>smoke</th>\n",
       "      <th>weight</th>\n",
       "      <th>disease</th>\n",
       "    </tr>\n",
       "  </thead>\n",
       "  <tbody>\n",
       "    <tr>\n",
       "      <th>0</th>\n",
       "      <td>2021-03-05</td>\n",
       "      <td>Indonesia</td>\n",
       "      <td>0</td>\n",
       "      <td>1</td>\n",
       "      <td>18393</td>\n",
       "      <td>0</td>\n",
       "      <td>110</td>\n",
       "      <td>80</td>\n",
       "      <td>1</td>\n",
       "      <td>2</td>\n",
       "      <td>1</td>\n",
       "      <td>168</td>\n",
       "      <td>Architect</td>\n",
       "      <td>0</td>\n",
       "      <td>62</td>\n",
       "      <td>0</td>\n",
       "    </tr>\n",
       "    <tr>\n",
       "      <th>1</th>\n",
       "      <td>2021-05-08</td>\n",
       "      <td>Malaysia</td>\n",
       "      <td>1</td>\n",
       "      <td>1</td>\n",
       "      <td>20228</td>\n",
       "      <td>0</td>\n",
       "      <td>140</td>\n",
       "      <td>90</td>\n",
       "      <td>3</td>\n",
       "      <td>1</td>\n",
       "      <td>1</td>\n",
       "      <td>156</td>\n",
       "      <td>Accountant</td>\n",
       "      <td>0</td>\n",
       "      <td>85</td>\n",
       "      <td>1</td>\n",
       "    </tr>\n",
       "  </tbody>\n",
       "</table>\n",
       "</div>"
      ],
      "text/plain": [
       "        date    country  id  active    age  alco  ap_hi  ap_lo  cholesterol  \\\n",
       "0 2021-03-05  Indonesia   0       1  18393     0    110     80            1   \n",
       "1 2021-05-08   Malaysia   1       1  20228     0    140     90            3   \n",
       "\n",
       "   gender  gluc  height  occupation  smoke  weight  disease  \n",
       "0       2     1     168   Architect      0      62        0  \n",
       "1       1     1     156  Accountant      0      85        1  "
      ]
     },
     "execution_count": 3,
     "metadata": {},
     "output_type": "execute_result"
    }
   ],
   "source": [
    "df.head(2)"
   ]
  },
  {
   "cell_type": "code",
   "execution_count": 4,
   "id": "c0e4dde4-6e25-4a99-a953-c3ce76a2bbb2",
   "metadata": {},
   "outputs": [
    {
     "name": "stdout",
     "output_type": "stream",
     "text": [
      "<class 'pandas.core.frame.DataFrame'>\n",
      "RangeIndex: 70000 entries, 0 to 69999\n",
      "Data columns (total 16 columns):\n",
      " #   Column       Non-Null Count  Dtype         \n",
      "---  ------       --------------  -----         \n",
      " 0   date         70000 non-null  datetime64[ns]\n",
      " 1   country      70000 non-null  object        \n",
      " 2   id           70000 non-null  int64         \n",
      " 3   active       70000 non-null  int64         \n",
      " 4   age          70000 non-null  int64         \n",
      " 5   alco         70000 non-null  int64         \n",
      " 6   ap_hi        70000 non-null  int64         \n",
      " 7   ap_lo        70000 non-null  int64         \n",
      " 8   cholesterol  70000 non-null  int64         \n",
      " 9   gender       70000 non-null  int64         \n",
      " 10  gluc         70000 non-null  int64         \n",
      " 11  height       70000 non-null  int64         \n",
      " 12  occupation   70000 non-null  object        \n",
      " 13  smoke        70000 non-null  int64         \n",
      " 14  weight       70000 non-null  int64         \n",
      " 15  disease      70000 non-null  int64         \n",
      "dtypes: datetime64[ns](1), int64(13), object(2)\n",
      "memory usage: 8.5+ MB\n"
     ]
    }
   ],
   "source": [
    "df.info()"
   ]
  },
  {
   "cell_type": "code",
   "execution_count": 5,
   "id": "0baeade0-6595-47f4-8a7b-9b8c25ab419a",
   "metadata": {},
   "outputs": [],
   "source": [
    "from sklearn.preprocessing import LabelEncoder\n",
    "le = LabelEncoder()\n",
    "for col in df.select_dtypes(include='object').columns:\n",
    "    df[col] = le.fit_transform(df[col])"
   ]
  },
  {
   "cell_type": "code",
   "execution_count": 6,
   "id": "c265b3ec-92c1-4969-b64e-2f1cea347168",
   "metadata": {},
   "outputs": [
    {
     "name": "stdout",
     "output_type": "stream",
     "text": [
      "<class 'pandas.core.frame.DataFrame'>\n",
      "RangeIndex: 70000 entries, 0 to 69999\n",
      "Data columns (total 16 columns):\n",
      " #   Column       Non-Null Count  Dtype         \n",
      "---  ------       --------------  -----         \n",
      " 0   date         70000 non-null  datetime64[ns]\n",
      " 1   country      70000 non-null  int64         \n",
      " 2   id           70000 non-null  int64         \n",
      " 3   active       70000 non-null  int64         \n",
      " 4   age          70000 non-null  int64         \n",
      " 5   alco         70000 non-null  int64         \n",
      " 6   ap_hi        70000 non-null  int64         \n",
      " 7   ap_lo        70000 non-null  int64         \n",
      " 8   cholesterol  70000 non-null  int64         \n",
      " 9   gender       70000 non-null  int64         \n",
      " 10  gluc         70000 non-null  int64         \n",
      " 11  height       70000 non-null  int64         \n",
      " 12  occupation   70000 non-null  int64         \n",
      " 13  smoke        70000 non-null  int64         \n",
      " 14  weight       70000 non-null  int64         \n",
      " 15  disease      70000 non-null  int64         \n",
      "dtypes: datetime64[ns](1), int64(15)\n",
      "memory usage: 8.5 MB\n"
     ]
    }
   ],
   "source": [
    "df.info()"
   ]
  },
  {
   "cell_type": "code",
   "execution_count": 7,
   "id": "9966bf40-1948-487d-8fc9-51dae3f7d678",
   "metadata": {},
   "outputs": [],
   "source": [
    "df.drop(columns=['date'],inplace=True)"
   ]
  },
  {
   "cell_type": "code",
   "execution_count": 8,
   "id": "90d2370b-0659-4964-b86d-b05f40db62e8",
   "metadata": {},
   "outputs": [
    {
     "data": {
      "text/html": [
       "<div>\n",
       "<style scoped>\n",
       "    .dataframe tbody tr th:only-of-type {\n",
       "        vertical-align: middle;\n",
       "    }\n",
       "\n",
       "    .dataframe tbody tr th {\n",
       "        vertical-align: top;\n",
       "    }\n",
       "\n",
       "    .dataframe thead th {\n",
       "        text-align: right;\n",
       "    }\n",
       "</style>\n",
       "<table border=\"1\" class=\"dataframe\">\n",
       "  <thead>\n",
       "    <tr style=\"text-align: right;\">\n",
       "      <th></th>\n",
       "      <th>country</th>\n",
       "      <th>id</th>\n",
       "      <th>active</th>\n",
       "      <th>age</th>\n",
       "      <th>alco</th>\n",
       "      <th>ap_hi</th>\n",
       "      <th>ap_lo</th>\n",
       "      <th>cholesterol</th>\n",
       "      <th>gender</th>\n",
       "      <th>gluc</th>\n",
       "      <th>height</th>\n",
       "      <th>occupation</th>\n",
       "      <th>smoke</th>\n",
       "      <th>weight</th>\n",
       "      <th>disease</th>\n",
       "    </tr>\n",
       "  </thead>\n",
       "  <tbody>\n",
       "    <tr>\n",
       "      <th>0</th>\n",
       "      <td>1</td>\n",
       "      <td>0</td>\n",
       "      <td>1</td>\n",
       "      <td>18393</td>\n",
       "      <td>0</td>\n",
       "      <td>110</td>\n",
       "      <td>80</td>\n",
       "      <td>1</td>\n",
       "      <td>2</td>\n",
       "      <td>1</td>\n",
       "      <td>168</td>\n",
       "      <td>1</td>\n",
       "      <td>0</td>\n",
       "      <td>62</td>\n",
       "      <td>0</td>\n",
       "    </tr>\n",
       "  </tbody>\n",
       "</table>\n",
       "</div>"
      ],
      "text/plain": [
       "   country  id  active    age  alco  ap_hi  ap_lo  cholesterol  gender  gluc  \\\n",
       "0        1   0       1  18393     0    110     80            1       2     1   \n",
       "\n",
       "   height  occupation  smoke  weight  disease  \n",
       "0     168           1      0      62        0  "
      ]
     },
     "execution_count": 8,
     "metadata": {},
     "output_type": "execute_result"
    }
   ],
   "source": [
    "df.head(1)"
   ]
  },
  {
   "cell_type": "markdown",
   "id": "6b4ca2a8-3963-4b2d-8417-eeb83730c7db",
   "metadata": {},
   "source": [
    "# Forward Elimination"
   ]
  },
  {
   "cell_type": "code",
   "execution_count": 9,
   "id": "d53e4481-bb56-4c4c-b58c-288d892d267a",
   "metadata": {},
   "outputs": [],
   "source": [
    "x = df.iloc[:,:]\n",
    "y = df['occupation']"
   ]
  },
  {
   "cell_type": "code",
   "execution_count": 10,
   "id": "f3b7303f-3a48-4357-a2e3-b2cbd3b622ef",
   "metadata": {},
   "outputs": [
    {
     "name": "stdout",
     "output_type": "stream",
     "text": [
      "(70000, 15)\n",
      "(70000,)\n"
     ]
    }
   ],
   "source": [
    "print(x.shape)\n",
    "print(y.shape)"
   ]
  },
  {
   "cell_type": "code",
   "execution_count": 11,
   "id": "d1c4e82a-260e-4096-8f40-3644e380b180",
   "metadata": {},
   "outputs": [],
   "source": [
    "from mlxtend.feature_selection import SequentialFeatureSelector\n",
    "from sklearn.linear_model import LogisticRegression"
   ]
  },
  {
   "cell_type": "code",
   "execution_count": 12,
   "id": "5d4abccc-af88-4db3-b3d2-9299846df8c1",
   "metadata": {},
   "outputs": [],
   "source": [
    "lr = LogisticRegression()"
   ]
  },
  {
   "cell_type": "code",
   "execution_count": 13,
   "id": "d8a57978-0260-4ce4-be0c-90790739c717",
   "metadata": {},
   "outputs": [],
   "source": [
    "sfs = SequentialFeatureSelector(lr, k_features=5, forward=True)"
   ]
  },
  {
   "cell_type": "code",
   "execution_count": null,
   "id": "5ff6f02c-b5fa-4cf8-a6b7-80ccdf58784c",
   "metadata": {},
   "outputs": [],
   "source": [
    "sfs.fit(x,y)"
   ]
  },
  {
   "cell_type": "code",
   "execution_count": 25,
   "id": "7aaf1fd2-d5a5-4dbf-b05a-e386e6be47d5",
   "metadata": {},
   "outputs": [
    {
     "data": {
      "text/plain": [
       "['country',\n",
       " 'id',\n",
       " 'active',\n",
       " 'age',\n",
       " 'alco',\n",
       " 'ap_hi',\n",
       " 'ap_lo',\n",
       " 'cholesterol',\n",
       " 'gender',\n",
       " 'gluc',\n",
       " 'height',\n",
       " 'occupation',\n",
       " 'smoke',\n",
       " 'weight',\n",
       " 'disease']"
      ]
     },
     "execution_count": 25,
     "metadata": {},
     "output_type": "execute_result"
    }
   ],
   "source": [
    "sfs.feature_names"
   ]
  },
  {
   "cell_type": "code",
   "execution_count": 26,
   "id": "fa89cb46-0cf4-4619-927d-da8c25bcbb26",
   "metadata": {},
   "outputs": [
    {
     "data": {
      "text/plain": [
       "('country', 'active', 'alco', 'occupation', 'smoke')"
      ]
     },
     "execution_count": 26,
     "metadata": {},
     "output_type": "execute_result"
    }
   ],
   "source": [
    "sfs.k_feature_names_"
   ]
  },
  {
   "cell_type": "code",
   "execution_count": 32,
   "id": "2d10e403-e019-411d-a361-28cb70b87ec5",
   "metadata": {},
   "outputs": [
    {
     "name": "stdout",
     "output_type": "stream",
     "text": [
      "0.9978714285714286\n"
     ]
    }
   ],
   "source": [
    "score = sfs.k_score_\n",
    "print(score)"
   ]
  },
  {
   "cell_type": "code",
   "execution_count": null,
   "id": "17bc9e08-d0b7-433d-ab72-acdc72ff3023",
   "metadata": {},
   "outputs": [],
   "source": []
  }
 ],
 "metadata": {
  "kernelspec": {
   "display_name": "Python 3 (ipykernel)",
   "language": "python",
   "name": "python3"
  },
  "language_info": {
   "codemirror_mode": {
    "name": "ipython",
    "version": 3
   },
   "file_extension": ".py",
   "mimetype": "text/x-python",
   "name": "python",
   "nbconvert_exporter": "python",
   "pygments_lexer": "ipython3",
   "version": "3.13.0"
  },
  "widgets": {
   "application/vnd.jupyter.widget-state+json": {
    "state": {},
    "version_major": 2,
    "version_minor": 0
   }
  }
 },
 "nbformat": 4,
 "nbformat_minor": 5
}
